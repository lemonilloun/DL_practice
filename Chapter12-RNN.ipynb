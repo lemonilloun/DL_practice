{
 "cells": [
  {
   "cell_type": "code",
   "execution_count": 1,
   "id": "initial_id",
   "metadata": {
    "collapsed": true,
    "ExecuteTime": {
     "end_time": "2023-08-08T14:31:09.266015Z",
     "start_time": "2023-08-08T14:31:08.646586Z"
    }
   },
   "outputs": [],
   "source": [
    "import numpy as np"
   ]
  },
  {
   "cell_type": "code",
   "execution_count": 2,
   "outputs": [],
   "source": [
    "a = np.array([1,2,3])\n",
    "b = np.array([0.1, 0.2, 0.3])\n",
    "c = np.array([-1, -0.5, 0])\n",
    "d = np.array([0, 0, 0])"
   ],
   "metadata": {
    "collapsed": false,
    "ExecuteTime": {
     "end_time": "2023-08-08T14:31:09.270625Z",
     "start_time": "2023-08-08T14:31:09.267192Z"
    }
   },
   "id": "83e655495d3ba740"
  },
  {
   "cell_type": "code",
   "execution_count": 3,
   "outputs": [
    {
     "data": {
      "text/plain": "array([[1., 0., 0.],\n       [0., 1., 0.],\n       [0., 0., 1.]])"
     },
     "execution_count": 3,
     "metadata": {},
     "output_type": "execute_result"
    }
   ],
   "source": [
    "identity = np.eye(3)\n",
    "identity"
   ],
   "metadata": {
    "collapsed": false,
    "ExecuteTime": {
     "end_time": "2023-08-08T14:31:09.280236Z",
     "start_time": "2023-08-08T14:31:09.274463Z"
    }
   },
   "id": "b81b3cfc7974f1ee"
  },
  {
   "cell_type": "code",
   "execution_count": 4,
   "outputs": [
    {
     "name": "stdout",
     "output_type": "stream",
     "text": [
      "[1. 2. 3.]\n",
      "[0.1 0.2 0.3]\n",
      "[-1.  -0.5  0. ]\n",
      "[0. 0. 0.]\n"
     ]
    }
   ],
   "source": [
    "print(a.dot(identity))\n",
    "print(b.dot(identity))\n",
    "print(c.dot(identity))\n",
    "print(d.dot(identity))"
   ],
   "metadata": {
    "collapsed": false,
    "ExecuteTime": {
     "end_time": "2023-08-08T14:31:09.314054Z",
     "start_time": "2023-08-08T14:31:09.277660Z"
    }
   },
   "id": "46ba7f86e4e482b5"
  },
  {
   "cell_type": "code",
   "execution_count": 5,
   "outputs": [],
   "source": [
    "this = np.array([2, 4, 6])\n",
    "movie = np.array([10, 10, 10])\n",
    "rocks = np.array([1, 1, 1])"
   ],
   "metadata": {
    "collapsed": false,
    "ExecuteTime": {
     "end_time": "2023-08-08T14:31:09.314573Z",
     "start_time": "2023-08-08T14:31:09.294212Z"
    }
   },
   "id": "d1ec9898f24f9654"
  },
  {
   "cell_type": "code",
   "execution_count": 6,
   "outputs": [
    {
     "name": "stdout",
     "output_type": "stream",
     "text": [
      "[13 15 17]\n",
      "[13. 15. 17.]\n"
     ]
    }
   ],
   "source": [
    "print(this + movie + rocks)\n",
    "print((this.dot(identity) + movie).dot(identity) + rocks) #последовательное умножение результатов на единичные матрицы"
   ],
   "metadata": {
    "collapsed": false,
    "ExecuteTime": {
     "end_time": "2023-08-08T14:31:09.315754Z",
     "start_time": "2023-08-08T14:31:09.294396Z"
    }
   },
   "id": "6c43ca6dc9d285fa"
  },
  {
   "cell_type": "markdown",
   "source": [
    "<h3>внедрение матрицы перехода в векторное представление предложения<h3>"
   ],
   "metadata": {
    "collapsed": false
   },
   "id": "a9db7962dff5e14b"
  },
  {
   "cell_type": "code",
   "execution_count": 7,
   "outputs": [],
   "source": [
    "def softmax(x_):\n",
    "    x = np.atleast_2d(x_)\n",
    "    temp = np.exp(x)\n",
    "    return temp / np.sum(temp, axis=1, keepdims=True)"
   ],
   "metadata": {
    "collapsed": false,
    "ExecuteTime": {
     "end_time": "2023-08-08T14:31:09.315910Z",
     "start_time": "2023-08-08T14:31:09.298860Z"
    }
   },
   "id": "e6b0d3fa1ae34c9"
  },
  {
   "cell_type": "code",
   "execution_count": 8,
   "outputs": [],
   "source": [
    "word_vects = {}\n",
    "word_vects['yankees'] = np.array([[0., 0., 0.]])\n",
    "word_vects['bears'] = np.array([[0., 0., 0.]])\n",
    "word_vects['braves'] = np.array([[0., 0., 0.]])\n",
    "word_vects['red'] = np.array([[0., 0., 0.]])\n",
    "word_vects['sox'] = np.array([[0., 0., 0.]])\n",
    "word_vects['lose'] = np.array([[0., 0., 0.]])\n",
    "word_vects['defeat'] = np.array([[0., 0., 0.]])\n",
    "word_vects['beat'] = np.array([[0., 0., 0.]])\n",
    "word_vects['tie'] = np.array([[0., 0., 0.]])\n",
    "\n",
    "sent2output = np.random.rand(3, len(word_vects))\n",
    "\n",
    "identity = np.eye(3)"
   ],
   "metadata": {
    "collapsed": false,
    "ExecuteTime": {
     "end_time": "2023-08-08T14:31:09.328568Z",
     "start_time": "2023-08-08T14:31:09.306493Z"
    }
   },
   "id": "341958e16b54bc7f"
  },
  {
   "cell_type": "code",
   "execution_count": 9,
   "outputs": [
    {
     "data": {
      "text/plain": "array([[0.11111111, 0.11111111, 0.11111111, 0.11111111, 0.11111111,\n        0.11111111, 0.11111111, 0.11111111, 0.11111111]])"
     },
     "execution_count": 9,
     "metadata": {},
     "output_type": "execute_result"
    }
   ],
   "source": [
    "layer_0 = word_vects['red']\n",
    "layer_1 = layer_0.dot(identity) + word_vects['sox']\n",
    "layer_2 = layer_1.dot(identity) + word_vects['defeat']\n",
    "\n",
    "pred = softmax(layer_2.dot(sent2output))\n",
    "pred"
   ],
   "metadata": {
    "collapsed": false,
    "ExecuteTime": {
     "end_time": "2023-08-08T14:31:09.334032Z",
     "start_time": "2023-08-08T14:31:09.310424Z"
    }
   },
   "id": "5f964b7b516a5137"
  },
  {
   "cell_type": "code",
   "execution_count": 10,
   "outputs": [],
   "source": [
    "y = np.array([1, 0, 0, 0, 0, 0, 0, 0, 0])\n",
    "alpha = 0.01"
   ],
   "metadata": {
    "collapsed": false,
    "ExecuteTime": {
     "end_time": "2023-08-08T14:31:09.336501Z",
     "start_time": "2023-08-08T14:31:09.314836Z"
    }
   },
   "id": "8384d97519980903"
  },
  {
   "cell_type": "code",
   "execution_count": 11,
   "outputs": [],
   "source": [
    "pred_delta = pred - y\n",
    "\n",
    "#обратное распространение\n",
    "layer_2_delta = pred_delta.dot(sent2output.T)\n",
    "defeate_delta = layer_2_delta * 1\n",
    "layer_1_delta = layer_2_delta.dot(identity.T)\n",
    "sox_delta = layer_1_delta * 1\n",
    "layer_0_delta = layer_1_delta.dot(identity.T)\n"
   ],
   "metadata": {
    "collapsed": false,
    "ExecuteTime": {
     "end_time": "2023-08-08T14:31:09.336639Z",
     "start_time": "2023-08-08T14:31:09.318657Z"
    }
   },
   "id": "12dd125f09fd2d59"
  },
  {
   "cell_type": "code",
   "execution_count": 12,
   "outputs": [],
   "source": [
    "word_vects['red'] -= layer_0_delta * alpha\n",
    "word_vects['sox'] -= sox_delta * alpha\n",
    "word_vects['defeat'] -= defeate_delta * alpha\n",
    "\n",
    "identity -= np.outer(layer_0, layer_1_delta) * alpha\n",
    "identity -= np.outer(layer_1,layer_2_delta) * alpha\n",
    "sent2output -= np.outer(layer_2, pred_delta) * alpha"
   ],
   "metadata": {
    "collapsed": false,
    "ExecuteTime": {
     "end_time": "2023-08-08T14:31:09.336728Z",
     "start_time": "2023-08-08T14:31:09.322087Z"
    }
   },
   "id": "12baf3ec1707552f"
  },
  {
   "cell_type": "markdown",
   "source": [
    "Обучение рекурентной нейронной сети на наборе данных Babi"
   ],
   "metadata": {
    "collapsed": false
   },
   "id": "65da58acc669db6a"
  },
  {
   "cell_type": "code",
   "execution_count": 75,
   "outputs": [],
   "source": [
    "import sys, random, math\n",
    "from collections import Counter"
   ],
   "metadata": {
    "collapsed": false,
    "ExecuteTime": {
     "end_time": "2023-08-08T15:54:28.844984Z",
     "start_time": "2023-08-08T15:54:28.837150Z"
    }
   },
   "id": "7323a0552da2026a"
  },
  {
   "cell_type": "code",
   "execution_count": 76,
   "outputs": [],
   "source": [
    "f = open('tasksv11/en/qa1_single-supporting-fact_train.txt','r')\n",
    "raw = f.readlines()\n",
    "f.close()"
   ],
   "metadata": {
    "collapsed": false,
    "ExecuteTime": {
     "end_time": "2023-08-08T15:54:29.185708Z",
     "start_time": "2023-08-08T15:54:29.179288Z"
    }
   },
   "id": "ba718cce3e015815"
  },
  {
   "cell_type": "code",
   "execution_count": 77,
   "outputs": [
    {
     "data": {
      "text/plain": "[['mary', 'moved', 'to', 'the', 'bathroom.'],\n ['john', 'went', 'to', 'the', 'hallway.'],\n ['where', 'is', 'mary', 'bathroom1'],\n ['daniel', 'went', 'back', 'to', 'the', 'hallway.']]"
     },
     "execution_count": 77,
     "metadata": {},
     "output_type": "execute_result"
    }
   ],
   "source": [
    "tokens = list()\n",
    "for line in raw[0:1000]:\n",
    "    tokens.append(line.lower().replace(\"\\n\",\"\").split(\" \")[1:])\n",
    "tokens[0:4]"
   ],
   "metadata": {
    "collapsed": false,
    "ExecuteTime": {
     "end_time": "2023-08-08T15:54:29.445001Z",
     "start_time": "2023-08-08T15:54:29.440686Z"
    }
   },
   "id": "dd8a231e6b0477f4"
  },
  {
   "cell_type": "code",
   "execution_count": 78,
   "outputs": [],
   "source": [
    "vocab = set()\n",
    "for sent in tokens:\n",
    "    for word in sent:\n",
    "        vocab.add(word)\n",
    "\n",
    "vocab = list(vocab)\n",
    "\n",
    "word2index = {}\n",
    "for i,word in enumerate(vocab):\n",
    "    word2index[word]=i\n"
   ],
   "metadata": {
    "collapsed": false,
    "ExecuteTime": {
     "end_time": "2023-08-08T15:54:29.652185Z",
     "start_time": "2023-08-08T15:54:29.648674Z"
    }
   },
   "id": "1e682464f1f842ec"
  },
  {
   "cell_type": "code",
   "execution_count": 79,
   "outputs": [],
   "source": [
    "def words2indices(sentence):\n",
    "    idx = list()\n",
    "    for word in sentence:\n",
    "        idx.append(word2index[word])\n",
    "    return idx\n",
    "\n",
    "def softmax(x):\n",
    "    e_x = np.exp(x - np.max(x))\n",
    "    return e_x / e_x.sum(axis=0)\n"
   ],
   "metadata": {
    "collapsed": false,
    "ExecuteTime": {
     "end_time": "2023-08-08T15:54:29.874656Z",
     "start_time": "2023-08-08T15:54:29.870861Z"
    }
   },
   "id": "bb12e114e0320910"
  },
  {
   "cell_type": "code",
   "execution_count": 101,
   "outputs": [],
   "source": [
    "np.random.seed(1)\n",
    "embed_size = 10\n",
    "\n",
    "embed = (np.random.rand(len(vocab), embed_size) - 0.5) * 0.1 #вложения слов\n",
    "\n",
    "recurrent = np.eye(embed_size) # рекурентная матрица (первоначально единичная)\n",
    "\n",
    "start = np.zeros(embed_size) #векторное представление для пустого предложения\n",
    "\n",
    "decoder = (np.random.rand(embed_size, len(vocab)) - 0.5) * 0.1 #выходные веса для прогнозирования векторного представления\n",
    "\n",
    "one_hot = np.eye(len(vocab)) # матрица поиска выходных весов (для функции потерь)"
   ],
   "metadata": {
    "collapsed": false,
    "ExecuteTime": {
     "end_time": "2023-08-08T16:09:35.035687Z",
     "start_time": "2023-08-08T16:09:35.028701Z"
    }
   },
   "id": "6a8dbcc87e724533"
  },
  {
   "cell_type": "code",
   "execution_count": 102,
   "outputs": [],
   "source": [
    "def predict(sent):\n",
    "\n",
    "    layers = list()\n",
    "    layer = {}\n",
    "    layer['hidden'] = start\n",
    "    layers.append(layer)\n",
    "\n",
    "    loss = 0\n",
    "\n",
    "    # прямое распространение\n",
    "    preds = list()\n",
    "    for target_i in range(len(sent)):\n",
    "\n",
    "        layer = {}\n",
    "\n",
    "        # попытка предсказать следующее слово\n",
    "        layer['pred'] = softmax(layers[-1]['hidden'].dot(decoder))\n",
    "\n",
    "        loss += -np.log(layer['pred'][sent[target_i]])\n",
    "\n",
    "        # сгенерировать следующее состояние скрытого слоя\n",
    "        layer['hidden'] = layers[-1]['hidden'].dot(recurrent) + embed[sent[target_i]]\n",
    "        layers.append(layer)\n",
    "\n",
    "    return layers, loss"
   ],
   "metadata": {
    "collapsed": false,
    "ExecuteTime": {
     "end_time": "2023-08-08T16:09:35.549330Z",
     "start_time": "2023-08-08T16:09:35.545665Z"
    }
   },
   "id": "3850e5d045118890"
  },
  {
   "cell_type": "code",
   "execution_count": 103,
   "outputs": [
    {
     "name": "stdout",
     "output_type": "stream",
     "text": [
      "Perplexity: 78.20868017216667\n",
      "Perplexity: 78.10566822739345\n",
      "Perplexity: 77.9845660253729\n",
      "Perplexity: 77.79172985430485\n",
      "Perplexity: 77.42977689503837\n",
      "Perplexity: 76.68977825671534\n",
      "Perplexity: 75.04031223991281\n",
      "Perplexity: 70.67601114041365\n",
      "Perplexity: 52.76121318315084\n",
      "Perplexity: 27.6521775197623\n",
      "Perplexity: 20.082749219373415\n",
      "Perplexity: 18.701987121639597\n",
      "Perplexity: 17.58634079446219\n",
      "Perplexity: 16.106745227499466\n",
      "Perplexity: 13.787581371315463\n",
      "Perplexity: 10.553443254420703\n",
      "Perplexity: 7.90364018447732\n",
      "Perplexity: 6.61062435741281\n",
      "Perplexity: 5.8044089928827205\n",
      "Perplexity: 5.305997329389027\n",
      "Perplexity: 4.9807269906102505\n",
      "Perplexity: 4.7527022097737035\n",
      "Perplexity: 4.601530599604509\n",
      "Perplexity: 4.517506029586688\n",
      "Perplexity: 4.469466553929598\n",
      "Perplexity: 4.414889118769853\n",
      "Perplexity: 4.342929109060579\n",
      "Perplexity: 4.258303739268453\n",
      "Perplexity: 4.168476693419766\n",
      "Perplexity: 4.082663633172574\n"
     ]
    }
   ],
   "source": [
    "#прямое распространение\n",
    "for iter in range(3 * 10**4):\n",
    "    alpha = 0.001\n",
    "    sent = words2indices(tokens[iter%len(tokens)][1:])\n",
    "    layers, loss = predict(sent)\n",
    "    \n",
    "    #обратное распространение\n",
    "    for layer_idx in reversed(range(len(layers))):\n",
    "        layer = layers[layer_idx]\n",
    "        target = sent[layer_idx - 1]\n",
    "        \n",
    "        if layer_idx > 0: #если не первый слой\n",
    "            layer['output_delta'] = layer['pred'] - one_hot[target]\n",
    "            new_hidden_delta = layer['output_delta'].dot(decoder.transpose())\n",
    "            \n",
    "            if layer_idx == len(layers) - 1:\n",
    "                layer['hidden_delta'] = new_hidden_delta\n",
    "            else:\n",
    "                layer['hidden_delta'] = new_hidden_delta + layers[layer_idx+1]['hidden_delta'].dot(recurrent.transpose())\n",
    "        \n",
    "        else: #если это последний слой, то не добавлять последующий - его не существует\n",
    "            layer['hidden_delta'] = layers[layer_idx+1]['hidden_delta'].dot(recurrent.transpose())\n",
    "    \n",
    "    #обновление весов\n",
    "    start -= layers[0]['hidden_delta'] * alpha / float(len(sent))\n",
    "    for layer_id, layer in enumerate(layers[1:]):\n",
    "        \n",
    "        decoder -= np.outer(layers[layer_id]['hidden'], layer['output_delta']) * alpha / float(len(sent))\n",
    "        \n",
    "        embed_idx = sent[layer_id]\n",
    "        embed[embed_idx] -= layers[layer_id]['hidden_delta'] * alpha / float(len(sent))\n",
    "        \n",
    "        recurrent -= np.outer(layers[layer_id]['hidden'], layer['hidden_delta']) * alpha / float(len(sent))\n",
    "        \n",
    "        \n",
    "    if iter % 1000 == 0:\n",
    "        print(f'Perplexity: {np.exp(loss/len(sent))}')"
   ],
   "metadata": {
    "collapsed": false,
    "ExecuteTime": {
     "end_time": "2023-08-08T16:09:40.348529Z",
     "start_time": "2023-08-08T16:09:37.367788Z"
    }
   },
   "id": "b3ec2d02006c6245"
  },
  {
   "cell_type": "code",
   "execution_count": 104,
   "outputs": [
    {
     "name": "stdout",
     "output_type": "stream",
     "text": [
      "['sandra', 'moved', 'to', 'the', 'garden.']\n",
      "Prev Input:sandra      True:moved          Pred:is\n",
      "Prev Input:moved       True:to             Pred:to\n",
      "Prev Input:to          True:the            Pred:the\n",
      "Prev Input:the         True:garden.        Pred:bedroom.\n"
     ]
    }
   ],
   "source": [
    "sent_index = 4\n",
    "\n",
    "l,_ = predict(words2indices(tokens[sent_index]))\n",
    "\n",
    "print(tokens[sent_index])\n",
    "\n",
    "for i,each_layer in enumerate(l[1:-1]):\n",
    "    input = tokens[sent_index][i]\n",
    "    true = tokens[sent_index][i+1]\n",
    "    pred = vocab[each_layer['pred'].argmax()]\n",
    "    print(\"Prev Input:\" + input + (' ' * (12 - len(input))) + \\\n",
    "          \"True:\" + true + (\" \" * (15 - len(true))) + \"Pred:\" + pred)"
   ],
   "metadata": {
    "collapsed": false,
    "ExecuteTime": {
     "end_time": "2023-08-08T16:09:43.682314Z",
     "start_time": "2023-08-08T16:09:43.676198Z"
    }
   },
   "id": "10798f9508f2788b"
  },
  {
   "cell_type": "code",
   "execution_count": 105,
   "outputs": [
    {
     "name": "stdout",
     "output_type": "stream",
     "text": [
      "['john', 'went', 'to', 'the', 'hallway.']\n",
      "Prev Input:john        True:went           Pred:is\n",
      "Prev Input:went        True:to             Pred:to\n",
      "Prev Input:to          True:the            Pred:the\n",
      "Prev Input:the         True:hallway.       Pred:bedroom.\n"
     ]
    }
   ],
   "source": [
    "sent_index = 1\n",
    "\n",
    "l,_ = predict(words2indices(tokens[sent_index]))\n",
    "\n",
    "print(tokens[sent_index])\n",
    "\n",
    "for i,each_layer in enumerate(l[1:-1]):\n",
    "    input = tokens[sent_index][i]\n",
    "    true = tokens[sent_index][i+1]\n",
    "    pred = vocab[each_layer['pred'].argmax()]\n",
    "    print(\"Prev Input:\" + input + (' ' * (12 - len(input))) + \\\n",
    "          \"True:\" + true + (\" \" * (15 - len(true))) + \"Pred:\" + pred)"
   ],
   "metadata": {
    "collapsed": false,
    "ExecuteTime": {
     "end_time": "2023-08-08T16:09:44.311802Z",
     "start_time": "2023-08-08T16:09:44.303771Z"
    }
   },
   "id": "a988d685c522c75e"
  },
  {
   "cell_type": "code",
   "execution_count": 106,
   "outputs": [
    {
     "name": "stdout",
     "output_type": "stream",
     "text": [
      "['where', 'is', 'sandra', 'bathroom2']\n",
      "Prev Input:where       True:is             Pred:is\n",
      "Prev Input:is          True:sandra         Pred:to\n",
      "Prev Input:sandra      True:bathroom2      Pred:the\n"
     ]
    }
   ],
   "source": [
    "sent_index = 23\n",
    "\n",
    "l,_ = predict(words2indices(tokens[sent_index]))\n",
    "\n",
    "print(tokens[sent_index])\n",
    "\n",
    "for i,each_layer in enumerate(l[1:-1]):\n",
    "    input = tokens[sent_index][i]\n",
    "    true = tokens[sent_index][i+1]\n",
    "    pred = vocab[each_layer['pred'].argmax()]\n",
    "    print(\"Prev Input:\" + input + (' ' * (12 - len(input))) + \\\n",
    "          \"True:\" + true + (\" \" * (15 - len(true))) + \"Pred:\" + pred)"
   ],
   "metadata": {
    "collapsed": false,
    "ExecuteTime": {
     "end_time": "2023-08-08T16:09:45.550091Z",
     "start_time": "2023-08-08T16:09:45.546673Z"
    }
   },
   "id": "4a31e8fc01c4f786"
  },
  {
   "cell_type": "code",
   "execution_count": 99,
   "outputs": [],
   "source": [],
   "metadata": {
    "collapsed": false,
    "ExecuteTime": {
     "end_time": "2023-08-08T16:09:26.423172Z",
     "start_time": "2023-08-08T16:09:26.398154Z"
    }
   },
   "id": "ec3a3b3705823ad0"
  }
 ],
 "metadata": {
  "kernelspec": {
   "display_name": "Python 3",
   "language": "python",
   "name": "python3"
  },
  "language_info": {
   "codemirror_mode": {
    "name": "ipython",
    "version": 2
   },
   "file_extension": ".py",
   "mimetype": "text/x-python",
   "name": "python",
   "nbconvert_exporter": "python",
   "pygments_lexer": "ipython2",
   "version": "2.7.6"
  }
 },
 "nbformat": 4,
 "nbformat_minor": 5
}
