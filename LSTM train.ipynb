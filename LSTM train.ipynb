{
 "cells": [
  {
   "cell_type": "markdown",
   "source": [],
   "metadata": {
    "collapsed": false
   },
   "id": "9c607fd62b75c567"
  },
  {
   "cell_type": "code",
   "execution_count": null,
   "id": "initial_id",
   "metadata": {
    "collapsed": true
   },
   "outputs": [],
   "source": [
    "import numpy as np\n",
    "import OwnFrame as fr"
   ]
  },
  {
   "cell_type": "code",
   "execution_count": null,
   "outputs": [],
   "source": [
    "f = open('shakespear.txt', 'r')\n",
    "raw = f.read()\n",
    "f.close()"
   ],
   "metadata": {
    "collapsed": false
   },
   "id": "e5466572a98bbfad"
  },
  {
   "cell_type": "code",
   "execution_count": null,
   "outputs": [],
   "source": [
    "vocab = list(set(raw)) # литерали список символов"
   ],
   "metadata": {
    "collapsed": false
   },
   "id": "3495ecbd8c71d2a4"
  },
  {
   "cell_type": "code",
   "execution_count": null,
   "outputs": [],
   "source": [
    "word2index = {}\n",
    "for i, word in enumerate(vocab):\n",
    "    word2index[word] = i\n",
    "\n",
    "indices = np.array(list(map(lambda x: word2index[x], raw)))\n"
   ],
   "metadata": {
    "collapsed": false
   },
   "id": "4b12c1ac5b4cb837"
  },
  {
   "cell_type": "code",
   "execution_count": null,
   "outputs": [],
   "source": [
    "embed = fr.Embedding(vocab_size=len(vocab), dim=512)\n",
    "model = fr.RNNCell(n_input=512, n_hidden=512, n_output=len(vocab))\n",
    "\n",
    "criterion = fr.CrossEntropyLoss()\n",
    "optim = fr.SGD(parameters=model.get_parameters() + embed.get_parameters(), alpha=0.05)\n"
   ],
   "metadata": {
    "collapsed": false
   },
   "id": "c086e2bb4ea0de3c"
  },
  {
   "cell_type": "markdown",
   "source": [
    "Усечнное обратное распространение"
   ],
   "metadata": {
    "collapsed": false
   },
   "id": "3f70e3ddc02fbdf4"
  },
  {
   "cell_type": "code",
   "execution_count": null,
   "outputs": [],
   "source": [
    "batch_size = 32\n",
    "bptt = 16\n",
    "n_batches = int(indices.shape[0] / batch_size)"
   ],
   "metadata": {
    "collapsed": false
   },
   "id": "ebe1c64b1e37d43d"
  },
  {
   "cell_type": "code",
   "execution_count": null,
   "outputs": [],
   "source": [
    "# усечение набора данных до размера, кратного поизведению batch_size и n_batches\n",
    "trimmed_indices = indices[:n_batches * batch_size]\n",
    "\n",
    "# изменение формы набора данных так, чтобы каждый столбец представлял сегмент начального массива индексов\n",
    "batched_indices = trimmed_indices.reshape(batch_size, n_batches)\n",
    "batched_indices = batched_indices.transpose()"
   ],
   "metadata": {
    "collapsed": false
   },
   "id": "a348898963c54eb2"
  },
  {
   "cell_type": "code",
   "execution_count": null,
   "outputs": [],
   "source": [
    "print(raw[0:5])\n",
    "print(indices[0:5])"
   ],
   "metadata": {
    "collapsed": false
   },
   "id": "21044d57cedfee04"
  },
  {
   "cell_type": "code",
   "execution_count": null,
   "outputs": [],
   "source": [
    "print(batched_indices[0:5])"
   ],
   "metadata": {
    "collapsed": false
   },
   "id": "69ada0c5a909382b"
  },
  {
   "cell_type": "code",
   "execution_count": null,
   "outputs": [],
   "source": [
    "input_batched_indices = batched_indices[0:-1]\n",
    "target_batched_indices = batched_indices[1:] # выходные индексы - входные индексы со смещением на одну строку"
   ],
   "metadata": {
    "collapsed": false
   },
   "id": "9bf52ac1c0b3ae7d"
  },
  {
   "cell_type": "code",
   "execution_count": null,
   "outputs": [],
   "source": [
    "print(input_batched_indices)"
   ],
   "metadata": {
    "collapsed": false
   },
   "id": "1657e84ba2fad96f"
  },
  {
   "cell_type": "code",
   "execution_count": null,
   "outputs": [],
   "source": [
    "print(target_batched_indices)"
   ],
   "metadata": {
    "collapsed": false
   },
   "id": "c7c884dc9159c74e"
  },
  {
   "cell_type": "code",
   "execution_count": null,
   "outputs": [],
   "source": [
    "n_bptt = int((n_batches - 1) / bptt)\n",
    "input_batches = input_batched_indices[:n_bptt * bptt]\n",
    "input_batches = input_batches.reshape(n_bptt, bptt, batch_size)\n",
    "target_batches = target_batched_indices[:n_bptt * bptt]\n",
    "target_batches = target_batches.reshape(n_bptt, bptt, batch_size)"
   ],
   "metadata": {
    "collapsed": false
   },
   "id": "f9307603efcb4450"
  },
  {
   "cell_type": "code",
   "execution_count": null,
   "outputs": [],
   "source": [
    "print(input_batches[0][0:5])"
   ],
   "metadata": {
    "collapsed": false
   },
   "id": "d36460315d7fc8a4"
  },
  {
   "cell_type": "code",
   "execution_count": null,
   "outputs": [],
   "source": [
    "print(target_batches[0][0:5])"
   ],
   "metadata": {
    "collapsed": false
   },
   "id": "21ab5d97c2450375"
  },
  {
   "cell_type": "code",
   "execution_count": null,
   "outputs": [],
   "source": [
    "def generate_sample(n=30, init_char=' '):\n",
    "    s = \"\"\n",
    "    hidden = model.init_hidden(batch_size=1)\n",
    "    input = fr.Tensor(np.array([word2index[init_char]]))\n",
    "    for i in range(n):\n",
    "        rnn_input = embed.forward(input)\n",
    "        output, hidden = model.forward(input=rnn_input, hidden=hidden)\n",
    "        \n",
    "        output.data *= 10 # температура для отбора образцов, чем больше, тем выше вероятность отбора\n",
    "        temp_dist = output.softmax()\n",
    "        temp_dist /= temp_dist.sum()\n",
    "        \n",
    "        # образцы из прогноза\n",
    "        m = (temp_dist > np.random.rand()).argmax()\n",
    "        c = vocab[m]\n",
    "        input = fr.Tensor(np.array([m]))\n",
    "        s += c\n",
    "    return s"
   ],
   "metadata": {
    "collapsed": false
   },
   "id": "cf9aded42d6e63b2"
  },
  {
   "cell_type": "code",
   "execution_count": null,
   "outputs": [],
   "source": [
    "import sys\n",
    "\n",
    "\n",
    "def train(iterations=100):\n",
    "    for iter in range(iterations):\n",
    "        total_loss = 0\n",
    "        n_loss = 0\n",
    "        \n",
    "        hidden = model.init_hidden(batch_size=batch_size)\n",
    "        for batch_i in range(len(input_batches)):\n",
    "            hidden = fr.Tensor(hidden.data, autograd=True)\n",
    "            loss = None\n",
    "            losses = list()\n",
    "            for t in range(bptt):\n",
    "                input = fr.Tensor(input_batches[batch_i][t], autograd=True)\n",
    "                rnn_input = embed.forward(input=input)\n",
    "                output, hidden = model.forward(input=rnn_input, hidden=hidden)\n",
    "                \n",
    "                target = fr.Tensor(target_batches[batch_i][t], autograd=True)\n",
    "                batch_loss = criterion.forward(output, target)\n",
    "                losses.append(batch_loss)\n",
    "                \n",
    "                if t == 0:\n",
    "                    loss = batch_loss\n",
    "                else:\n",
    "                    loss = loss + batch_loss\n",
    "            \n",
    "            for loss in losses:\n",
    "                \"\"\n",
    "            loss.backward()\n",
    "            optim.step()\n",
    "            total_loss += loss.data\n",
    "\n",
    "            log = \"\\r Iter:\" + str(iter)\n",
    "            log += \" - Batch \"+str(batch_i+1)+\"/\"+str(len(input_batches))\n",
    "            log += \" - Loss:\" + str(np.exp(total_loss / (batch_i+1)))\n",
    "            \n",
    "            if batch_i == 0:\n",
    "                log += \" - \" + generate_sample(n=70, init_char='\\n').replace(\"\\n\",\" \")\n",
    "                \n",
    "            if batch_i % 10 == 0 or batch_i-1 == len(input_batches):\n",
    "                sys.stdout.write(log)\n",
    "        optim.alpha *= 0.99\n",
    "        print()\n",
    "            ##### дописать вывод"
   ],
   "metadata": {
    "collapsed": false
   },
   "id": "5622d5e70cf49ef9"
  },
  {
   "cell_type": "code",
   "execution_count": null,
   "outputs": [],
   "source": [
    "train()"
   ],
   "metadata": {
    "collapsed": false,
    "is_executing": true
   },
   "id": "7a7ee7f5d13b5887"
  },
  {
   "cell_type": "code",
   "execution_count": null,
   "outputs": [],
   "source": [],
   "metadata": {
    "collapsed": false,
    "is_executing": true
   },
   "id": "7519f8e86108355a"
  }
 ],
 "metadata": {
  "kernelspec": {
   "display_name": "Python 3",
   "language": "python",
   "name": "python3"
  },
  "language_info": {
   "codemirror_mode": {
    "name": "ipython",
    "version": 2
   },
   "file_extension": ".py",
   "mimetype": "text/x-python",
   "name": "python",
   "nbconvert_exporter": "python",
   "pygments_lexer": "ipython2",
   "version": "2.7.6"
  }
 },
 "nbformat": 4,
 "nbformat_minor": 5
}
