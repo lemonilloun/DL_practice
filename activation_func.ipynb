{
 "cells": [
  {
   "cell_type": "code",
   "execution_count": 2,
   "id": "initial_id",
   "metadata": {
    "collapsed": true,
    "ExecuteTime": {
     "end_time": "2023-08-03T10:41:10.348912Z",
     "start_time": "2023-08-03T10:41:10.342815Z"
    }
   },
   "outputs": [],
   "source": [
    "import numpy as np, sys\n",
    "from keras.datasets import mnist\n",
    "np.random.seed(1)"
   ]
  },
  {
   "cell_type": "code",
   "execution_count": 3,
   "outputs": [],
   "source": [
    "(x_train, y_train), (x_test, y_test) = mnist.load_data()"
   ],
   "metadata": {
    "collapsed": false,
    "ExecuteTime": {
     "end_time": "2023-08-03T10:41:13.765341Z",
     "start_time": "2023-08-03T10:41:13.564327Z"
    }
   },
   "id": "6ef027583a89b242"
  },
  {
   "cell_type": "code",
   "execution_count": 11,
   "outputs": [],
   "source": [
    "images, labels = x_train[0:1000].reshape(1000, 28*28)/255, y_train[0:1000]"
   ],
   "metadata": {
    "collapsed": false,
    "ExecuteTime": {
     "end_time": "2023-08-03T10:45:51.155371Z",
     "start_time": "2023-08-03T10:45:51.151375Z"
    }
   },
   "id": "9e6393eca053be6a"
  },
  {
   "cell_type": "code",
   "execution_count": 12,
   "outputs": [],
   "source": [
    "one_hot_labels = np.zeros((len(labels), 10))\n",
    "for i,l in enumerate(labels):\n",
    "    one_hot_labels[i][l] = 1\n",
    "labels = one_hot_labels"
   ],
   "metadata": {
    "collapsed": false,
    "ExecuteTime": {
     "end_time": "2023-08-03T10:45:51.735316Z",
     "start_time": "2023-08-03T10:45:51.733505Z"
    }
   },
   "id": "dd099aacaa89fd42"
  },
  {
   "cell_type": "code",
   "execution_count": 15,
   "outputs": [],
   "source": [
    "test_images = x_test.reshape(len(x_test), 28*28) / 255\n",
    "test_labels = np.zeros((len(y_test), 10))\n",
    "for i,l in enumerate(y_test):\n",
    "    test_labels[i][l] = 1"
   ],
   "metadata": {
    "collapsed": false,
    "ExecuteTime": {
     "end_time": "2023-08-03T10:47:10.867956Z",
     "start_time": "2023-08-03T10:47:10.818921Z"
    }
   },
   "id": "5f81492203720c69"
  },
  {
   "cell_type": "code",
   "execution_count": 16,
   "outputs": [],
   "source": [
    "def tanh(x):\n",
    "    return np.tanh(x)\n",
    "\n",
    "def tanh2deriv(x):\n",
    "    return 1 - (x**2)\n",
    "\n",
    "def softmax(x):\n",
    "    temp = np.exp(x)\n",
    "    return temp / np.sum(temp, axis=1, keepdims=True)"
   ],
   "metadata": {
    "collapsed": false,
    "ExecuteTime": {
     "end_time": "2023-08-03T10:50:38.941853Z",
     "start_time": "2023-08-03T10:50:38.900702Z"
    }
   },
   "id": "bb4bcd5f0cbdbd67"
  },
  {
   "cell_type": "code",
   "execution_count": 21,
   "outputs": [],
   "source": [
    "alpha, iterations = (2, 300)\n",
    "pixels_per_img, hidden_size, num_labels = (784, 100, 10)\n",
    "batch_size = 100\n",
    "\n",
    "weights_0_1 = 0.02 * np.random.random((pixels_per_img, hidden_size)) - 0.01\n",
    "weights_1_2 = 0.2 * np.random.random((hidden_size, num_labels)) - 0.1"
   ],
   "metadata": {
    "collapsed": false,
    "ExecuteTime": {
     "end_time": "2023-08-03T18:03:27.654969Z",
     "start_time": "2023-08-03T18:03:27.647160Z"
    }
   },
   "id": "7af22a044ed00e4"
  },
  {
   "cell_type": "code",
   "execution_count": 22,
   "outputs": [
    {
     "name": "stdout",
     "output_type": "stream",
     "text": [
      "\n",
      "I:0 Test-Acc:0.4501 Train-Acc:0.198\n",
      "I:10 Test-Acc:0.6857 Train-Acc:0.711\n",
      "I:20 Test-Acc:0.7016 Train-Acc:0.725\n",
      "I:30 Test-Acc:0.7324 Train-Acc:0.763\n",
      "I:40 Test-Acc:0.7633 Train-Acc:0.79\n",
      "I:50 Test-Acc:0.788 Train-Acc:0.817\n",
      "I:60 Test-Acc:0.8061 Train-Acc:0.853\n",
      "I:70 Test-Acc:0.8169 Train-Acc:0.864\n",
      "I:80 Test-Acc:0.8238 Train-Acc:0.875\n",
      "I:90 Test-Acc:0.8304 Train-Acc:0.882\n",
      "I:100 Test-Acc:0.8349 Train-Acc:0.894\n",
      "I:110 Test-Acc:0.8392 Train-Acc:0.889\n",
      "I:120 Test-Acc:0.8437 Train-Acc:0.899\n",
      "I:130 Test-Acc:0.8467 Train-Acc:0.902\n",
      "I:140 Test-Acc:0.8491 Train-Acc:0.906\n",
      "I:150 Test-Acc:0.8503 Train-Acc:0.913\n",
      "I:160 Test-Acc:0.8539 Train-Acc:0.92\n",
      "I:170 Test-Acc:0.8561 Train-Acc:0.922\n",
      "I:180 Test-Acc:0.8567 Train-Acc:0.917\n",
      "I:190 Test-Acc:0.8584 Train-Acc:0.926\n",
      "I:200 Test-Acc:0.8597 Train-Acc:0.929\n",
      "I:210 Test-Acc:0.8612 Train-Acc:0.931\n",
      "I:220 Test-Acc:0.863 Train-Acc:0.93\n",
      "I:230 Test-Acc:0.8633 Train-Acc:0.937\n",
      "I:240 Test-Acc:0.8637 Train-Acc:0.935\n",
      "I:250 Test-Acc:0.8661 Train-Acc:0.934\n",
      "I:260 Test-Acc:0.8657 Train-Acc:0.943\n",
      "I:270 Test-Acc:0.8663 Train-Acc:0.938\n",
      "I:280 Test-Acc:0.8671 Train-Acc:0.946\n",
      "I:290 Test-Acc:0.8677 Train-Acc:0.946\n",
      "I:299 Test-Acc:0.8684 Train-Acc:0.947"
     ]
    }
   ],
   "source": [
    "for iter in range(iterations):\n",
    "    correct_cnt = 0\n",
    "    for i in range(int(len(images) / batch_size)): # 10 итераций\n",
    "        batch_start, batch_end = (i* batch_size, (i + 1) * batch_size) # каждый раз сдвигает на 100\n",
    "        \n",
    "        layer_0 = images[batch_start:batch_end]\n",
    "        layer_1 = tanh(np.dot(layer_0, weights_0_1))\n",
    "        dropout_mask = np.random.randint(2, size=layer_1.shape)\n",
    "        layer_1 *= dropout_mask * 2\n",
    "        layer_2 = softmax(np.dot(layer_1, weights_1_2))\n",
    "        \n",
    "        for k in range(batch_size):\n",
    "            correct_cnt += int( np.argmax(layer_2[k : k + 1]) == np.argmax(labels[batch_start + k: batch_start + k + 1]) )\n",
    "        layer_2_delta = (labels[batch_start : batch_end] - layer_2) / (batch_size * layer_2.shape[0])\n",
    "        \n",
    "        layer_1_delta = layer_2_delta.dot(weights_1_2.T) * tanh2deriv(layer_1)\n",
    "        layer_1_delta *= dropout_mask\n",
    "        \n",
    "        weights_1_2 += alpha * layer_1.T.dot(layer_2_delta)\n",
    "        weights_0_1 += alpha * layer_0.T.dot(layer_1_delta)\n",
    "        \n",
    "    test_correct_cnt = 0\n",
    "    for i in range(len(test_images)):\n",
    "        \n",
    "        layer_0 = test_images[i:i+1]\n",
    "        layer_1 = tanh(np.dot(layer_0, weights_0_1))\n",
    "        layer_2 = np.dot(layer_1, weights_1_2)\n",
    "        \n",
    "        test_correct_cnt += int( np.argmax(layer_2) == np.argmax(test_labels[i:i+1]) )\n",
    "    \n",
    "    if iter % 10 == 0 or iter == iterations - 1:\n",
    "        sys.stdout.write(\"\\n\"+ \\\n",
    "                         \"I:\" + str(iter) + \\\n",
    "                         \" Test-Acc:\"+str(test_correct_cnt/float(len(test_images)))+ \\\n",
    "                         \" Train-Acc:\" + str(correct_cnt/float(len(images))))"
   ],
   "metadata": {
    "collapsed": false,
    "ExecuteTime": {
     "end_time": "2023-08-03T18:04:39.858090Z",
     "start_time": "2023-08-03T18:03:28.200106Z"
    }
   },
   "id": "3b3de27ddfeabd9b"
  },
  {
   "cell_type": "code",
   "execution_count": null,
   "outputs": [],
   "source": [],
   "metadata": {
    "collapsed": false
   },
   "id": "68bb7c2fecfd9ce8"
  }
 ],
 "metadata": {
  "kernelspec": {
   "display_name": "Python 3",
   "language": "python",
   "name": "python3"
  },
  "language_info": {
   "codemirror_mode": {
    "name": "ipython",
    "version": 2
   },
   "file_extension": ".py",
   "mimetype": "text/x-python",
   "name": "python",
   "nbconvert_exporter": "python",
   "pygments_lexer": "ipython2",
   "version": "2.7.6"
  }
 },
 "nbformat": 4,
 "nbformat_minor": 5
}
