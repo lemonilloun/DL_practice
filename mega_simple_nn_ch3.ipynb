{
 "cells": [
  {
   "cell_type": "markdown",
   "id": "f578c21f",
   "metadata": {},
   "source": [
    "<b>#Back propagation<b>"
   ]
  },
  {
   "cell_type": "markdown",
   "id": "a545a478",
   "metadata": {},
   "source": [
    "#1"
   ]
  },
  {
   "cell_type": "code",
   "execution_count": 1,
   "id": "16e7cb43",
   "metadata": {},
   "outputs": [],
   "source": [
    "import numpy as np"
   ]
  },
  {
   "cell_type": "code",
   "execution_count": null,
   "id": "1e472f12",
   "metadata": {},
   "outputs": [],
   "source": [
    "weight = 0.1\n",
    "nub_of_toes = [8.5, 9,5, 10, 9]\n",
    "input = nub_of_toes[0]"
   ]
  },
  {
   "cell_type": "code",
   "execution_count": null,
   "id": "0f2f3891",
   "metadata": {},
   "outputs": [],
   "source": [
    "def neural_network(input, weight):\n",
    "    pred = input * weight\n",
    "    return pred"
   ]
  },
  {
   "cell_type": "code",
   "execution_count": null,
   "id": "d90dc70e",
   "metadata": {},
   "outputs": [],
   "source": [
    "print(neural_network(input, weight))"
   ]
  },
  {
   "cell_type": "markdown",
   "id": "c12151b0",
   "metadata": {},
   "source": [
    "<b>#2 Multiple inputs<b>"
   ]
  },
  {
   "cell_type": "code",
   "execution_count": null,
   "id": "16c7b596",
   "metadata": {},
   "outputs": [],
   "source": [
    "weights = [0.1, 0.2, 0]\n",
    "toes = [8.5, 9.5, 9.9, 9.0] # текущее среднее число игр\n",
    "wrles = [0.65, 0.8, 0.8, 0.9] # текущая доля игр, окончившихся победой\n",
    "nfans = [1.2, 1.3, 0.5, 1.0] # число болельщиков (в тысечях)"
   ]
  },
  {
   "cell_type": "code",
   "execution_count": null,
   "id": "bc4dccff",
   "metadata": {},
   "outputs": [],
   "source": [
    "def w_sum(a, b):\n",
    "    assert(len(a) == len(b))\n",
    "    output = 0\n",
    "    \n",
    "    for i in range(len(a)):\n",
    "        output += (a[i] * b[i])\n",
    "        \n",
    "    return output\n",
    "\n",
    "def neural_network(input, weights):\n",
    "    pred = w_sum(input, weights)\n",
    "    \n",
    "    return pred"
   ]
  },
  {
   "cell_type": "code",
   "execution_count": null,
   "id": "552ceb17",
   "metadata": {},
   "outputs": [],
   "source": [
    "input = [toes[0], wrles[0], nfans[0]]\n",
    "print(neural_network(input, weights))"
   ]
  },
  {
   "cell_type": "markdown",
   "id": "0256ccdf",
   "metadata": {},
   "source": [
    "<b>#2.1 С использованием numpy<b>"
   ]
  },
  {
   "cell_type": "code",
   "execution_count": null,
   "id": "05c8c33c",
   "metadata": {},
   "outputs": [],
   "source": [
    "weights = np.array([0.1, 0.2, 0])\n",
    "toes = np.array([8.5, 9.5, 9.9, 9.0])\n",
    "wrles = np.array([0.65, 0.8, 0.8, 0.9])\n",
    "nfans = np.array([1.2, 1.3, 0.5, 1.0])\n",
    "input = np.array([toes[0], wrles[0], nfans[0]])"
   ]
  },
  {
   "cell_type": "code",
   "execution_count": null,
   "id": "ae7adfe2",
   "metadata": {},
   "outputs": [],
   "source": [
    "def neural_network(input, weights):\n",
    "    pred = input.dot(weights)\n",
    "    return pred"
   ]
  },
  {
   "cell_type": "code",
   "execution_count": null,
   "id": "2e4dc278",
   "metadata": {},
   "outputs": [],
   "source": [
    "print(neural_network(input, weights))"
   ]
  },
  {
   "cell_type": "markdown",
   "id": "67abd017",
   "metadata": {},
   "source": [
    "<b>#3 Multiple outputs<b>"
   ]
  },
  {
   "cell_type": "code",
   "execution_count": null,
   "id": "b4b5d066",
   "metadata": {},
   "outputs": [],
   "source": [
    "weights = [0.3, 0.2, 0.9]\n",
    "wlrec = [0.65, 0.8, 0.8, 0.9]\n",
    "input  = wlrec[0]"
   ]
  },
  {
   "cell_type": "code",
   "execution_count": null,
   "id": "92b38955",
   "metadata": {},
   "outputs": [],
   "source": [
    "def ele_mul(number, vector):\n",
    "    output = [0]*3\n",
    "    assert(len(output) == len(vector))\n",
    "    \n",
    "    for i in range(len(vector)):\n",
    "        output[i] = number * vector[i]\n",
    "        print(number, vector[i])\n",
    "    return output\n",
    "\n",
    "def neural_network(input, weights):\n",
    "    pred = ele_mul(input, weights)\n",
    "    return pred"
   ]
  },
  {
   "cell_type": "code",
   "execution_count": null,
   "id": "112e668f",
   "metadata": {},
   "outputs": [],
   "source": [
    "print(neural_network(input, weights))"
   ]
  },
  {
   "cell_type": "markdown",
   "id": "f984cc18",
   "metadata": {},
   "source": [
    "<b>#4 Multiple inputs & outputs<b>"
   ]
  },
  {
   "cell_type": "code",
   "execution_count": null,
   "id": "0c33b2ce",
   "metadata": {},
   "outputs": [],
   "source": [
    "weights = [[0.1, 0.1, -0.3],\n",
    "           [0.1, 0.2, 0.0],\n",
    "           [0.0, 1.3, 0.1]]\n",
    "toes = [8.5, 9.5, 9.9, 9.0]\n",
    "wlrec = [0.65, 0.8, 0.8, 0.9]\n",
    "nfans = [1.2, 1.3, 0.5, 1.0]\n",
    "input = [toes[0], wlrec[0], nfans[0]] # данные о первом сезоне игры"
   ]
  },
  {
   "cell_type": "code",
   "execution_count": null,
   "id": "71fe604c",
   "metadata": {},
   "outputs": [],
   "source": [
    "def neural_network(input, weights):\n",
    "    pred = vect_mat_mul(input, weights)\n",
    "        \n",
    "    return pred\n",
    "\n",
    "def vect_mat_mul(vect, matrix):\n",
    "    assert(len(vect) == len(matrix))\n",
    "    output = [0] * 3\n",
    "    \n",
    "    for i in range(len(vect)):\n",
    "        output[i] = w_sum(vect, matrix[i])\n",
    "        \n",
    "    return output\n",
    "\n",
    "def w_sum(a,b):\n",
    "    assert(len(a) == len(b))\n",
    "    output = 0\n",
    "    \n",
    "    for i in range(len(a)):\n",
    "        output += (a[i] * b[i])\n",
    "    \n",
    "    return output"
   ]
  },
  {
   "cell_type": "code",
   "execution_count": null,
   "id": "6afe7ef1",
   "metadata": {},
   "outputs": [],
   "source": [
    "print(neural_network(input, weights))"
   ]
  },
  {
   "cell_type": "markdown",
   "id": "291b2303",
   "metadata": {},
   "source": [
    "<b>#5 Multiple inputs & outputs + multiple matrix (network)<b>"
   ]
  },
  {
   "cell_type": "code",
   "execution_count": 12,
   "id": "26c6ea56",
   "metadata": {},
   "outputs": [],
   "source": [
    "#Веса для входных значений\n",
    "ih_wgt = [[0.1, 0.2, -0.1],\n",
    "         [-0.1, 0.1, 0.9],\n",
    "         [0.1, 0.4, 0.1]]\n",
    "#Веса для промежуточных значений\n",
    "hp_wgt = [[0.3, 1.1, -0.3],\n",
    "         [0.1, 0.2, 0.0],\n",
    "         [0.0, 1.3, 0.1]]\n",
    "\n",
    "weights = [ih_wgt, hp_wgt]"
   ]
  },
  {
   "cell_type": "code",
   "execution_count": 13,
   "id": "3d0422a8",
   "metadata": {},
   "outputs": [],
   "source": [
    "toes = [8.5, 9.5, 9.9, 9.0]\n",
    "wlrec = [0.65, 0.8, 0.8, 0.9]\n",
    "nfans = [1.2, 1.3, 0.5, 1.0]\n",
    "input = [toes[0], wlrec[0], nfans[0]]"
   ]
  },
  {
   "cell_type": "code",
   "execution_count": 16,
   "id": "c8ffc1a3",
   "metadata": {},
   "outputs": [],
   "source": [
    "def neural_network(input, weights):\n",
    "    hid = vect_mat_mul(input, weights[0])\n",
    "    print(hid)\n",
    "    pred = vect_mat_mul(hid, weights[1])\n",
    "    return pred\n",
    "\n",
    "def vect_mat_mul(vect, matrix):\n",
    "    assert(len(vect) == len(matrix))\n",
    "    output = [0] * 3\n",
    "    \n",
    "    for i in range(len(vect)):\n",
    "        output[i] = w_sum(vect, matrix[i])\n",
    "        \n",
    "    return output\n",
    "\n",
    "def w_sum(a,b):\n",
    "    assert(len(a) == len(b))\n",
    "    output = 0\n",
    "    \n",
    "    for i in range(len(a)):\n",
    "        output += (a[i] * b[i])\n",
    "    \n",
    "    return output"
   ]
  },
  {
   "cell_type": "code",
   "execution_count": 17,
   "id": "ce75242e",
   "metadata": {},
   "outputs": [
    {
     "name": "stdout",
     "output_type": "stream",
     "text": [
      "[0.8600000000000001, 0.29499999999999993, 1.23]\n",
      "[0.21350000000000002, 0.14500000000000002, 0.5065]\n"
     ]
    }
   ],
   "source": [
    "print(neural_network(input, weights))"
   ]
  },
  {
   "cell_type": "markdown",
   "id": "b578b96d",
   "metadata": {},
   "source": [
    "<b>#6 Multiple inputs & outputs + multiple matrix (network) using numpy<b>"
   ]
  },
  {
   "cell_type": "code",
   "execution_count": 6,
   "id": "c131bdf3",
   "metadata": {},
   "outputs": [],
   "source": [
    "# игр % побед болельщиков\n",
    "ih_wgt = np.array([\n",
    "    [0.1, 0.2, -0.1], #hid[0]\n",
    "    [-0.1, 0.1, 0.9], #hid[1]\n",
    "    [0.1, 0.4, 0.1]   #hid[2]\n",
    "])\n",
    "\n",
    "\n",
    "hp_wgt = np.array([\n",
    "    [0.3, 1.1, -0.3], #травмы?\n",
    "    [0.1, 0.2, 0.0],  #победа?\n",
    "    [0.0, 1.3, 0.1]   #печаль?\n",
    "])\n",
    "\n",
    "wghts = [ih_wgt, hp_wgt]"
   ]
  },
  {
   "cell_type": "code",
   "execution_count": 7,
   "id": "4d4069de",
   "metadata": {},
   "outputs": [],
   "source": [
    "toess = np.array([8.5, 9.5, 9.9, 9.0])\n",
    "wlrecc = np.array([0.65, 0.8, 0.8, 0.9])\n",
    "nfans = np.array([1.2, 1.3, 0.5, 1.0])\n",
    "\n",
    "inpt = np.array([toess[0], wlrecc[0], nfans[0]])"
   ]
  },
  {
   "cell_type": "code",
   "execution_count": 20,
   "id": "2f9daec9",
   "metadata": {},
   "outputs": [],
   "source": [
    "def n_network(input, weights):\n",
    "    hid = weights[0].dot(input)\n",
    "    print(hid)\n",
    "    pred = weights[1].dot(hid)\n",
    "    \n",
    "    return pred"
   ]
  },
  {
   "cell_type": "code",
   "execution_count": 21,
   "id": "690e8347",
   "metadata": {},
   "outputs": [
    {
     "name": "stdout",
     "output_type": "stream",
     "text": [
      "[0.86  0.295 1.23 ]\n",
      "[0.2135 0.145  0.5065]\n"
     ]
    }
   ],
   "source": [
    "print(n_network(inpt, wghts))"
   ]
  },
  {
   "cell_type": "markdown",
   "id": "ef07affb",
   "metadata": {},
   "source": [
    "<b>#7 some numpy<b>"
   ]
  },
  {
   "cell_type": "code",
   "execution_count": 24,
   "id": "4d9ff855",
   "metadata": {},
   "outputs": [],
   "source": [
    "a = np.array([0, 1, 2, 3])\n",
    "b = np.array([4, 5, 6, 7])\n",
    "c = np.array([a, b])\n",
    "d = np.zeros((2, 4))\n",
    "e = np.random.rand(2, 5)"
   ]
  },
  {
   "cell_type": "code",
   "execution_count": 26,
   "id": "ba90bd9c",
   "metadata": {},
   "outputs": [
    {
     "name": "stdout",
     "output_type": "stream",
     "text": [
      "[0 1 2 3]\n",
      "[4 5 6 7]\n",
      "[[0 1 2 3]\n",
      " [4 5 6 7]]\n",
      "[[0. 0. 0. 0.]\n",
      " [0. 0. 0. 0.]]\n",
      "[[0.26998192 0.1324018  0.74148464 0.84747731 0.49544273]\n",
      " [0.43010718 0.14595955 0.55381387 0.84723022 0.51625603]]\n"
     ]
    }
   ],
   "source": [
    "print(a)\n",
    "print(b)\n",
    "print(c)\n",
    "print(d)\n",
    "print(e)"
   ]
  },
  {
   "cell_type": "code",
   "execution_count": 27,
   "id": "db685248",
   "metadata": {},
   "outputs": [
    {
     "name": "stdout",
     "output_type": "stream",
     "text": [
      "[0.  0.1 0.2 0.3]\n"
     ]
    }
   ],
   "source": [
    "print(a * 0.1)"
   ]
  },
  {
   "cell_type": "code",
   "execution_count": 28,
   "id": "6b9e4e6b",
   "metadata": {},
   "outputs": [
    {
     "name": "stdout",
     "output_type": "stream",
     "text": [
      "[[0.  0.2 0.4 0.6]\n",
      " [0.8 1.  1.2 1.4]]\n"
     ]
    }
   ],
   "source": [
    "print(c * 0.2)"
   ]
  },
  {
   "cell_type": "code",
   "execution_count": 29,
   "id": "d9697d20",
   "metadata": {},
   "outputs": [
    {
     "name": "stdout",
     "output_type": "stream",
     "text": [
      "[ 0  5 12 21]\n"
     ]
    }
   ],
   "source": [
    "print(a * b) # поэлементное умножение a на b"
   ]
  },
  {
   "cell_type": "code",
   "execution_count": 30,
   "id": "1234c79a",
   "metadata": {
    "scrolled": true
   },
   "outputs": [
    {
     "name": "stdout",
     "output_type": "stream",
     "text": [
      "[0.  1.  2.4 4.2]\n"
     ]
    }
   ],
   "source": [
    "print(a * b * 0.2) # поэлементное умножение a на b, затем результат поэлементно на 0.2\n"
   ]
  },
  {
   "cell_type": "code",
   "execution_count": 31,
   "id": "0e4ce384",
   "metadata": {},
   "outputs": [
    {
     "name": "stdout",
     "output_type": "stream",
     "text": [
      "[[ 0  1  4  9]\n",
      " [ 0  5 12 21]]\n"
     ]
    }
   ],
   "source": [
    "print(a * c) # поэлементное умножение вектроа a с каждой строкой матрицы c,тк у них то же число столбцов"
   ]
  },
  {
   "cell_type": "code",
   "execution_count": 32,
   "id": "4c33d31e",
   "metadata": {},
   "outputs": [
    {
     "ename": "ValueError",
     "evalue": "operands could not be broadcast together with shapes (4,) (2,5) ",
     "output_type": "error",
     "traceback": [
      "\u001b[0;31m---------------------------------------------------------------------------\u001b[0m",
      "\u001b[0;31mValueError\u001b[0m                                Traceback (most recent call last)",
      "Cell \u001b[0;32mIn[32], line 1\u001b[0m\n\u001b[0;32m----> 1\u001b[0m \u001b[38;5;28mprint\u001b[39m(\u001b[43ma\u001b[49m\u001b[43m \u001b[49m\u001b[38;5;241;43m*\u001b[39;49m\u001b[43m \u001b[49m\u001b[43me\u001b[49m)\n",
      "\u001b[0;31mValueError\u001b[0m: operands could not be broadcast together with shapes (4,) (2,5) "
     ]
    }
   ],
   "source": [
    "print(a * e)"
   ]
  },
  {
   "cell_type": "code",
   "execution_count": 33,
   "id": "8c3b7f26",
   "metadata": {},
   "outputs": [
    {
     "name": "stdout",
     "output_type": "stream",
     "text": [
      "(1, 3)\n"
     ]
    }
   ],
   "source": [
    "a = np.zeros((1,4))\n",
    "b = np.zeros((4, 3))\n",
    "\n",
    "c = a.dot(b) #матричное умножение\n",
    "print(c.shape)"
   ]
  },
  {
   "cell_type": "code",
   "execution_count": 35,
   "id": "9e7d86c5",
   "metadata": {},
   "outputs": [
    {
     "name": "stdout",
     "output_type": "stream",
     "text": [
      "(2, 3)\n"
     ]
    }
   ],
   "source": [
    "e = np.zeros((2, 1))\n",
    "f = np.zeros((1, 3))\n",
    "g = e.dot(f)\n",
    "print(g.shape)"
   ]
  },
  {
   "cell_type": "code",
   "execution_count": 40,
   "id": "05487789",
   "metadata": {},
   "outputs": [
    {
     "name": "stdout",
     "output_type": "stream",
     "text": [
      "(4, 6)\n"
     ]
    }
   ],
   "source": [
    "h = np.zeros((5,4)).T # метод T транспонирует\n",
    "i = np.zeros((5,6))\n",
    "j = h.dot(i)\n",
    "print(j.shape)"
   ]
  },
  {
   "cell_type": "code",
   "execution_count": null,
   "id": "653daaff",
   "metadata": {},
   "outputs": [],
   "source": []
  }
 ],
 "metadata": {
  "kernelspec": {
   "display_name": "Python 3 (ipykernel)",
   "language": "python",
   "name": "python3"
  },
  "language_info": {
   "codemirror_mode": {
    "name": "ipython",
    "version": 3
   },
   "file_extension": ".py",
   "mimetype": "text/x-python",
   "name": "python",
   "nbconvert_exporter": "python",
   "pygments_lexer": "ipython3",
   "version": "3.9.13"
  }
 },
 "nbformat": 4,
 "nbformat_minor": 5
}
