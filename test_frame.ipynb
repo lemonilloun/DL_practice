{
 "cells": [
  {
   "cell_type": "code",
   "execution_count": 1,
   "outputs": [],
   "source": [
    "import numpy as np\n",
    "#from OwnFrame import Tensor"
   ],
   "metadata": {
    "collapsed": false,
    "ExecuteTime": {
     "end_time": "2023-08-15T21:07:21.221147Z",
     "start_time": "2023-08-15T21:07:20.576733Z"
    }
   },
   "id": "76bed5e104f80a79"
  },
  {
   "cell_type": "code",
   "execution_count": 2,
   "outputs": [],
   "source": [
    "class Tensor (object):\n",
    "\n",
    "    def __init__(self, data, autograd=False, creators=None, creation_op=None, id=None):\n",
    "        self.data = np.array(data)\n",
    "        self.creation_op = creation_op\n",
    "        self.creators = creators\n",
    "        self.grad = None\n",
    "        self.autograd = autograd\n",
    "        self.children = {}\n",
    "        if id is None:\n",
    "            self.id = np.random.randint(0, 100000)\n",
    "        else:\n",
    "            self.id = id\n",
    "        \n",
    "        # скорректировать число потомков данного тензора\n",
    "        if creators is not None:\n",
    "            for c in creators:\n",
    "                if self.id not in c.children:\n",
    "                    c.children[self.id] = 1\n",
    "                else:\n",
    "                    c.children[self.id] += 1\n",
    "        \n",
    "    \n",
    "    # проверить, получил ли тензор градиенты для всех потомков\n",
    "    def all_children_grads_accounted_for(self):\n",
    "       for id, cnt in self.children.items():\n",
    "            if cnt != 0:\n",
    "                return False\n",
    "       return True\n",
    "       \n",
    "       \n",
    "    #вычисление обратного распространения\n",
    "    def backward(self, grad=None, grad_origin=None):\n",
    "        if self.autograd:\n",
    "            \n",
    "            # первый градиентный вызов из единиц\n",
    "            if grad is None:\n",
    "                grad = Tensor(np.ones_like(self.data))\n",
    "            \n",
    "            if grad_origin is not None:\n",
    "                # проверка возможности обратного распространения\n",
    "                # или ожидания градиента,\n",
    "                # в последнем случае нужно уменьшить счетчик\n",
    "                if self.children[grad_origin.id] == 0:\n",
    "                    raise Exception(\"cannot backprop more than once\")\n",
    "                else:\n",
    "                    self.children[grad_origin.id] -= 1\n",
    "            \n",
    "            # накопление градиентов от нескольких потомков\n",
    "            if self.grad  is None:\n",
    "                self.grad = grad\n",
    "            else:\n",
    "                self.grad += grad\n",
    "            \n",
    "            assert grad.autograd == False\n",
    "            \n",
    "            if (self.creators is not None) and (self.all_children_grads_accounted_for() or grad_origin is None):\n",
    "                \n",
    "                if self.creation_op == 'add':\n",
    "                    self.creators[0].backward(self.grad, self)\n",
    "                    self.creators[1].backward(self.grad, self) # начало обратного распространения\n",
    "                \n",
    "                if self.creation_op == \"neg\":\n",
    "                    self.creators[0].backward(self.grad.__neg__())\n",
    "                \n",
    "                if self.creation_op == \"sub\":\n",
    "                    new = Tensor(self.grad.data)\n",
    "                    self.creators[0].backward(new, self)\n",
    "                    new = Tensor(self.grad.__neg__().data)\n",
    "                    self.creators[1].backward(new, self)\n",
    "                \n",
    "                if self.creation_op == \"mul\":\n",
    "                    new = self.grad * self.creators[1]\n",
    "                    self.creators[0].backward(new, self)\n",
    "                    new = self.grad * self.creators[0]\n",
    "                    self.creators[1].backward(new, self)\n",
    "                \n",
    "                if self.creation_op == \"mm\":\n",
    "                    act = self.creators[0] # обычно слой активации\n",
    "                    weights = self.creators[1] # обычно весовая матрица\n",
    "                    new = self.grad.mm(weights.transpose())\n",
    "                    act.backward(new)\n",
    "                    new = self.grad.transpose().mm(act).transpose()\n",
    "                    weights.backward(new)\n",
    "                \n",
    "                if self.creation_op == \"transpose\":\n",
    "                    self.creators[0].backward(self.grad.transpose())\n",
    "                \n",
    "                if \"sum\" in self.creation_op:\n",
    "                    dim = int(self.creation_op.split(\"_\")[1])\n",
    "                    ds = self.creators[0].data.shape[dim]\n",
    "                    self.creators[0].backward(self.grad.expand(dim, ds))\n",
    "                \n",
    "                if \"expand\" in self.creation_op:\n",
    "                    dim = int(self.creation_op.split(\"_\")[1])\n",
    "                    self.creators[0].backward(self.grad.sum(dim))\n",
    "                \n",
    "                if self.creation_op == \"sigmoid\":\n",
    "                    ones = Tensor(np.ones_like(self.grad.data))\n",
    "                    self.creators[0].backward(self.grad * (self * (ones - self)))\n",
    "                \n",
    "                if self.creation_op == \"tanh\":\n",
    "                    ones = Tensor(np.ones_like(self.grad.data))\n",
    "                    self.creators[0].backward(self.grad * (ones - (self * self)))\n",
    "                \n",
    "                if self.creation_op == \"index_select\":\n",
    "                    new_grad = np.zeros_like(self.creators[0].data)\n",
    "                    indices_ = self.index_select_indices.data.flatten() # преобразование индексов в плоский вектор\n",
    "                    grad_ = grad.data.reshape(len(indices_), -1) # свораичиваем гадиент в простой список строк\n",
    "                    \n",
    "                    #  на данном моменте индексы indices_ и grad_ будут иметь соответсвующий порядок\n",
    "                    \n",
    "                    for i in range(len(indices_)):\n",
    "                        new_grad[indices_[i]] += grad_[i]\n",
    "                    self.creators[0].backward(Tensor(new_grad))\n",
    "                \n",
    "                if self.creation_op == \"cross_entropy\":\n",
    "                    dx = self.softmax_output - self.target_dist\n",
    "                    self.creators[0].backward(Tensor(dx))\n",
    "                \n",
    "            \n",
    "    # реализация метода сложения\n",
    "    def __add__(self, other):\n",
    "        if self.autograd and other.autograd:\n",
    "                return Tensor(self.data + other.data, autograd=True,\n",
    "                              creators=[self, other],\n",
    "                              creation_op='add')\n",
    "        return Tensor(self.data + other.data, creators=[self,other], creation_op='add')\n",
    "    \n",
    "    # реализация метода отрицания (negative)\n",
    "    def __neg__(self):\n",
    "        if self.autograd:\n",
    "            return Tensor(self.data * -1,\n",
    "                          autograd=True,\n",
    "                          creators=[self],\n",
    "                          creation_op=\"neg\")\n",
    "        return Tensor(self.data * -1)\n",
    "    \n",
    "    # реализация метода вычитания\n",
    "    def __sub__(self, other):\n",
    "        if self.autograd and other.autograd:\n",
    "            return Tensor(self.data - other.data,\n",
    "                          autograd=True,\n",
    "                          creators=[self, other],\n",
    "                          creation_op=\"sub\")\n",
    "        return Tensor(self.data - other.data)\n",
    "    \n",
    "    # реализация метода умножения\n",
    "    def __mul__(self, other):\n",
    "        if self.autograd and other.autograd:\n",
    "            return Tensor(self.data * other.data,\n",
    "                          autograd=True,\n",
    "                          creators=[self, other],\n",
    "                          creation_op=\"mul\")\n",
    "        return Tensor(self.data * other.data)\n",
    "    \n",
    "    # реализация метода суммирования всех эллементов массива \n",
    "    def sum(self, dim):\n",
    "        if self.autograd:\n",
    "            return Tensor(self.data.sum(dim),\n",
    "                          autograd=True,\n",
    "                          creators=[self],\n",
    "                          creation_op=\"sum_\" + str(dim),)\n",
    "        return Tensor(self.data.sum(dim))\n",
    "    \n",
    "    # реализация метода расширения\n",
    "    def expand(self, dim, copies):\n",
    "        \n",
    "        trans_cmd = list(range(0, len(self.data.shape)))\n",
    "        trans_cmd.insert(dim, len(self.data.shape))\n",
    "        new_shape = list(self.data.shape) + [copies]\n",
    "        new_data = self.data.repeat(copies).reshape(new_shape)\n",
    "        new_data = new_data.transpose(trans_cmd)\n",
    "        \n",
    "        if self.autograd:\n",
    "            return Tensor(new_data,\n",
    "                          autograd=True,\n",
    "                          creators=[self],\n",
    "                          creation_op=\"expand_\" + str(dim))\n",
    "        return Tensor(new_data)\n",
    "    \n",
    "    #  реализация метода транспонирования\n",
    "    def transpose(self):\n",
    "        if self.autograd:\n",
    "            return Tensor(self.data.transpose(),\n",
    "                          autograd=True,\n",
    "                          creators=[self],\n",
    "                          creation_op=\"transpose\")\n",
    "        return Tensor(self.data.transpose())\n",
    "    \n",
    "    # реализация матричного умножения\n",
    "    def mm(self, x):\n",
    "        if self.autograd:\n",
    "            return Tensor(self.data.dot(x.data),\n",
    "                          autograd=True,\n",
    "                          creators=[self, x],\n",
    "                          creation_op=\"mm\")\n",
    "        return Tensor(self.data.dot(x.data))\n",
    "    \n",
    "    # функции активации нейронов\n",
    "    \n",
    "    def sigmoid(self):\n",
    "        if self.autograd:\n",
    "            return Tensor(1 / (1 + np.exp(-self.data)),\n",
    "                          autograd=True,\n",
    "                          creators=[self],\n",
    "                          creation_op='sigmoid')\n",
    "        return Tensor(1 / (1 + np.exp(-self.data)))\n",
    "    \n",
    "    \n",
    "    def tanh(self):\n",
    "        if self.autograd:\n",
    "            return Tensor(np.tanh(self.data),\n",
    "                          autograd=True,\n",
    "                          creators=[self],\n",
    "                          creation_op=\"tanh\")\n",
    "        return Tensor(np.tanh(self.data))\n",
    "    \n",
    "    def index_select(self, indices):\n",
    "        \n",
    "        if self.autograd:\n",
    "            new = Tensor(self.data[indices.data],\n",
    "                         autograd=True,\n",
    "                         creators=[self],\n",
    "                         creation_op=\"index_select\")\n",
    "            new.index_select_indices = indices\n",
    "            return new\n",
    "        \n",
    "        return Tensor(self.data[indices.data])\n",
    "    \n",
    "    def cross_entropy(self, target_indices):\n",
    "        \n",
    "        temp = np.exp(self.data)\n",
    "        softmax_output = temp / np.sum(temp,\n",
    "                                       axis=len(self.data.shape) - 1,\n",
    "                                       keepdims=True)\n",
    "        \n",
    "        t = target_indices.data.flatten()\n",
    "        p = softmax_output.reshape(len(t), -1)\n",
    "        target_dist = np.eye(p.shape[1])[t]\n",
    "        loss = -(np.log(p) * (target_dist)).sum(1).mean()\n",
    "        \n",
    "        if self.autograd:\n",
    "            out = Tensor(loss,\n",
    "                         autograd=True,\n",
    "                         creators=[self],\n",
    "                         creation_op=\"cross_entropy\")\n",
    "            out.softmax_output = softmax_output\n",
    "            out.target_dist = target_dist\n",
    "            return out\n",
    "        \n",
    "        return Tensor(loss)\n",
    "\n",
    "    def __repr__(self):\n",
    "        return str(self.data.__repr__())\n",
    "\n",
    "    def __str__(self):\n",
    "        return str(self.data.__str__())\n",
    "\n",
    "class SGD (object):\n",
    "\n",
    "    def __init__(self, parameters, alpha = 0.1):\n",
    "        self.parameters = parameters\n",
    "        self.alpha = alpha\n",
    "\n",
    "    def zero(self):\n",
    "        for p in self.parameters:\n",
    "            p.grad.data *= 0\n",
    "\n",
    "    def step(self, zero=True):\n",
    "        for p in self.parameters:\n",
    "            p.data -= p.grad.data * self.alpha\n",
    "\n",
    "            if zero:\n",
    "                p.grad.data *= 0\n",
    "\n",
    "class Layer (object):\n",
    "    def __init__(self):\n",
    "        self.parameters = list()\n",
    "        \n",
    "    def get_parameters(self):\n",
    "        return self.parameters\n",
    "\n",
    "class Linear(Layer):\n",
    "    \n",
    "    def __init__(self, n_inputs, n_outputs):\n",
    "        super().__init__()\n",
    "        W = np.random.randn(n_inputs, n_outputs) * np.sqrt(2.0 / n_inputs)\n",
    "        self.weight = Tensor(W, autograd=True)\n",
    "        self.bias = Tensor(np.zeros(n_outputs), autograd=True)\n",
    "        \n",
    "        self.parameters.append(self.weight)\n",
    "        self.parameters.append(self.bias)\n",
    "    \n",
    "    def forward(self, input):\n",
    "        return input.mm(self.weight) + self.bias.expand(0, len(input.data))\n",
    "\n",
    "class Sequential(Layer):\n",
    "    \n",
    "    def __init__(self, layers=list()):\n",
    "        super().__init__()\n",
    "        self.layers = layers\n",
    "    \n",
    "    def add(self, layer):\n",
    "        self.layers.append(layer)\n",
    "    \n",
    "    def forward(self, input):\n",
    "        for layer in self.layers:\n",
    "            input = layer.forward(input)\n",
    "        return input\n",
    "    \n",
    "    def get_parameters(self):\n",
    "        params = list()\n",
    "        for l in self.layers:\n",
    "            params += l.get_parameters()\n",
    "        return params\n",
    "    \n",
    "class MSELoss (Layer):\n",
    "    def __init__(self):\n",
    "        super().__init__()\n",
    "    \n",
    "    def forward(self, pred, target):\n",
    "        return ((pred - target) * (pred - target)).sum(0)\n",
    "\n",
    "class Tanh(Layer):\n",
    "    def __init__(self):\n",
    "        super().__init__()\n",
    "    \n",
    "    def forward(self, input):\n",
    "        return input.tanh()\n",
    "\n",
    "class Sigmoid(Layer):\n",
    "    def __init__(self):\n",
    "        super().__init__()\n",
    "    \n",
    "    def forward(self, input):\n",
    "        return input.sigmoid()\n",
    "\n",
    "class Embedding(Layer):\n",
    "   \n",
    "    def __init__(self, vocab_size, dim):\n",
    "        super().__init__()\n",
    "        \n",
    "        self.vocab_size = vocab_size\n",
    "        self.dim = dim\n",
    "        \n",
    "        weight = (np.random.rand(vocab_size, dim) - 0.5) / dim \n",
    "        self.weight = Tensor(weight, autograd=True)\n",
    "        \n",
    "        self.parameters.append(self.weight)\n",
    "        \n",
    "    def forward(self, input):\n",
    "        return self.weight.index_select(input)\n",
    "    \n",
    "class CrossEntropyLoss(object):\n",
    "    \n",
    "    def __init__(self):\n",
    "        super().__init__()\n",
    "    \n",
    "    def forward(self, input, target):\n",
    "        return input.cross_entropy(target)\n",
    "\n",
    "class RNNCell(Layer):\n",
    "    def __init__(self, n_input, n_hidden, n_output, activation='sigmoid'):\n",
    "        super().__init__()\n",
    "        \n",
    "        self.n_input = n_input\n",
    "        self.n_hidden = n_hidden\n",
    "        self.n_output = n_output\n",
    "        \n",
    "        if activation == 'sigmoid':\n",
    "            self.activation = Sigmoid()\n",
    "        elif activation == 'tanh':\n",
    "            self.activation = Tanh()\n",
    "        else:\n",
    "            raise Exception(\"Non-linearity not found\")\n",
    "        \n",
    "        self.w_ih = Linear(n_input, n_hidden)\n",
    "        self.w_hh = Linear(n_hidden, n_hidden)\n",
    "        self.w_ho = Linear(n_hidden, n_output)\n",
    "        \n",
    "        \n",
    "        self.parameters += self.w_ih.get_parameters()\n",
    "        self.parameters += self.w_hh.get_parameters()\n",
    "        self.parameters += self.w_ho.get_parameters()\n",
    "    \n",
    "    def forward(self, input, hidden):\n",
    "        from_prev_hidden = self.w_hh.forward(hidden)\n",
    "        combined = self.w_ih.forward(input) + from_prev_hidden\n",
    "        new_hidden = self.activation.forward(combined)\n",
    "        output = self.w_ho.forward(new_hidden)\n",
    "        \n",
    "        return output, new_hidden\n",
    "    \n",
    "    def init_hidden(self, batch_size):\n",
    "        return Tensor(np.zeros((batch_size, self.n_hidden)), autograd=True)\n",
    "    \n",
    "        "
   ],
   "metadata": {
    "collapsed": false,
    "ExecuteTime": {
     "end_time": "2023-08-15T21:07:21.259715Z",
     "start_time": "2023-08-15T21:07:21.220597Z"
    }
   },
   "id": "f021d047570325b7"
  },
  {
   "cell_type": "code",
   "execution_count": 3,
   "outputs": [
    {
     "data": {
      "text/plain": "array([1, 2, 3, 4, 5])"
     },
     "execution_count": 3,
     "metadata": {},
     "output_type": "execute_result"
    }
   ],
   "source": [
    "x = Tensor([1, 2, 3, 4, 5])\n",
    "x"
   ],
   "metadata": {
    "collapsed": false,
    "ExecuteTime": {
     "end_time": "2023-08-10T20:35:30.001207Z",
     "start_time": "2023-08-10T20:35:29.995192Z"
    }
   },
   "id": "43d8e63e2a826b5c"
  },
  {
   "cell_type": "code",
   "execution_count": 4,
   "outputs": [
    {
     "data": {
      "text/plain": "array([ 2,  4,  6,  8, 10])"
     },
     "execution_count": 4,
     "metadata": {},
     "output_type": "execute_result"
    }
   ],
   "source": [
    "y = x + x\n",
    "y"
   ],
   "metadata": {
    "collapsed": false,
    "ExecuteTime": {
     "end_time": "2023-08-10T20:35:30.007197Z",
     "start_time": "2023-08-10T20:35:30.001366Z"
    }
   },
   "id": "baf9b649f089dfb0"
  },
  {
   "cell_type": "code",
   "execution_count": 5,
   "outputs": [],
   "source": [
    "x = Tensor([1, 2, 3, 4, 5])\n",
    "y = Tensor([2, 2, 2, 2, 2])\n",
    "\n",
    "z = x + y\n",
    "z.backward(Tensor(np.array([1, 1, 1, 1, 1])))"
   ],
   "metadata": {
    "collapsed": false,
    "ExecuteTime": {
     "end_time": "2023-08-10T20:35:30.022351Z",
     "start_time": "2023-08-10T20:35:30.006420Z"
    }
   },
   "id": "5b3b40782d2a33a7"
  },
  {
   "cell_type": "code",
   "execution_count": 6,
   "outputs": [
    {
     "data": {
      "text/plain": "array([3, 4, 5, 6, 7])"
     },
     "execution_count": 6,
     "metadata": {},
     "output_type": "execute_result"
    }
   ],
   "source": [
    "z"
   ],
   "metadata": {
    "collapsed": false,
    "ExecuteTime": {
     "end_time": "2023-08-10T20:35:30.022931Z",
     "start_time": "2023-08-10T20:35:30.009836Z"
    }
   },
   "id": "3a082204f856560c"
  },
  {
   "cell_type": "code",
   "execution_count": 7,
   "outputs": [
    {
     "name": "stdout",
     "output_type": "stream",
     "text": [
      "None\n",
      "None\n",
      "[array([1, 2, 3, 4, 5]), array([2, 2, 2, 2, 2])]\n",
      "add\n"
     ]
    }
   ],
   "source": [
    "print(x.grad)\n",
    "print(y.grad)\n",
    "print(z.creators)\n",
    "print(z.creation_op)"
   ],
   "metadata": {
    "collapsed": false,
    "ExecuteTime": {
     "end_time": "2023-08-10T20:35:30.023403Z",
     "start_time": "2023-08-10T20:35:30.015980Z"
    }
   },
   "id": "f4070a89432e73c6"
  },
  {
   "cell_type": "markdown",
   "source": [
    "Рекурсия автоматического вычисления градиента"
   ],
   "metadata": {
    "collapsed": false
   },
   "id": "c597b8085a6ffca0"
  },
  {
   "cell_type": "code",
   "execution_count": 8,
   "outputs": [],
   "source": [
    "a = Tensor([1, 2, 3, 4, 5])\n",
    "b = Tensor([2, 2, 2, 2, 2])\n",
    "c = Tensor([5, 4, 3, 2, 1])\n",
    "d = Tensor([-1, -2, -3, -4, -5])\n",
    "\n",
    "e = a + b\n",
    "f = c + d\n",
    "g = e + f\n",
    "\n",
    "g.backward(Tensor(np.array([1, 1, 1, 1, 1])))"
   ],
   "metadata": {
    "collapsed": false,
    "ExecuteTime": {
     "end_time": "2023-08-10T20:35:30.023971Z",
     "start_time": "2023-08-10T20:35:30.020084Z"
    }
   },
   "id": "a63f74e878673d0e"
  },
  {
   "cell_type": "code",
   "execution_count": 16,
   "outputs": [
    {
     "name": "stdout",
     "output_type": "stream",
     "text": [
      "[1 1 1 1 1]\n"
     ]
    }
   ],
   "source": [
    "print(a.grad.data)"
   ],
   "metadata": {
    "collapsed": false,
    "ExecuteTime": {
     "end_time": "2023-08-10T21:06:22.376731Z",
     "start_time": "2023-08-10T21:06:22.358679Z"
    }
   },
   "id": "e33faa86a26c5378"
  },
  {
   "cell_type": "markdown",
   "source": [
    "<h3>Тензоры используемые многократно<h3>"
   ],
   "metadata": {
    "collapsed": false
   },
   "id": "c3e0e165049fc567"
  },
  {
   "cell_type": "code",
   "execution_count": 10,
   "outputs": [
    {
     "name": "stdout",
     "output_type": "stream",
     "text": [
      "[ True  True  True  True  True]\n"
     ]
    }
   ],
   "source": [
    "a = Tensor([1, 2, 3, 4, 5], autograd=True)\n",
    "b = Tensor([2, 2, 2, 2, 2], autograd=True)\n",
    "c = Tensor([5, 4, 3, 2, 1], autograd=True)\n",
    "\n",
    "d = a + b\n",
    "e = b + c\n",
    "f = d + e\n",
    "f.backward(Tensor(np.array([1, 1, 1, 1, 1])))\n",
    "\n",
    "print(b.grad.data == np.array([2, 2, 2, 2, 2]))"
   ],
   "metadata": {
    "collapsed": false,
    "ExecuteTime": {
     "end_time": "2023-08-10T20:35:30.035980Z",
     "start_time": "2023-08-10T20:35:30.031648Z"
    }
   },
   "id": "44b678669c854ae2"
  },
  {
   "cell_type": "markdown",
   "source": [
    "<h3>Реализация метода отрицания<h3>"
   ],
   "metadata": {
    "collapsed": false
   },
   "id": "d963526ff823f8d6"
  },
  {
   "cell_type": "code",
   "execution_count": 15,
   "outputs": [
    {
     "name": "stdout",
     "output_type": "stream",
     "text": [
      "d: [-1  0  1  2  3]\n",
      "e: [ 3  2  1  0 -1]\n",
      "f: [2 2 2 2 2]\n",
      "[ True  True  True  True  True]\n"
     ]
    }
   ],
   "source": [
    "a = Tensor([1, 2, 3, 4, 5], autograd=True)\n",
    "b = Tensor([2, 2, 2, 2, 2], autograd=True)\n",
    "c = Tensor([5, 4, 3, 2, 1], autograd=True)\n",
    "\n",
    "d = a + (-b)\n",
    "print(f'd: {d}')\n",
    "e = (-b) + c\n",
    "print(f'e: {e}')\n",
    "f = d + e\n",
    "print(f'f: {f}')\n",
    "\n",
    "f.backward(Tensor(np.array([1, 1, 1, 1, 1])))\n",
    "\n",
    "print(b.grad.data == np.array([-2, -2, -2, -2, -2]))"
   ],
   "metadata": {
    "collapsed": false,
    "ExecuteTime": {
     "end_time": "2023-08-10T21:04:06.256368Z",
     "start_time": "2023-08-10T21:04:06.253195Z"
    }
   },
   "id": "a5c186c7376eae14"
  },
  {
   "cell_type": "markdown",
   "source": [
    "Использование autograd в обучении"
   ],
   "metadata": {
    "collapsed": false
   },
   "id": "874c6e3969ade7ba"
  },
  {
   "cell_type": "code",
   "execution_count": 20,
   "outputs": [],
   "source": [
    "np.random.seed(0)\n",
    "\n",
    "data = np.array([[0,0],\n",
    "                 [0,1],\n",
    "                 [1,0],\n",
    "                 [1,1]])\n",
    "target = np.array([[0],\n",
    "                   [1],\n",
    "                   [0],\n",
    "                   [1]])\n",
    "\n",
    "weights_0_1 = np.random.rand(2, 3)\n",
    "weights_1_2 = np.random.rand(3, 1)\n"
   ],
   "metadata": {
    "collapsed": false,
    "ExecuteTime": {
     "end_time": "2023-08-10T22:29:05.008883Z",
     "start_time": "2023-08-10T22:29:04.989929Z"
    }
   },
   "id": "4d94120c6f482404"
  },
  {
   "cell_type": "code",
   "execution_count": 21,
   "outputs": [
    {
     "name": "stdout",
     "output_type": "stream",
     "text": [
      "5.066439994622395\n",
      "0.4959907791902342\n",
      "0.4180671892167177\n",
      "0.35298133007809646\n",
      "0.2972549636567377\n",
      "0.24923260381633286\n",
      "0.20785392075862477\n",
      "0.17231260916265181\n",
      "0.14193744536652994\n",
      "0.11613979792168386\n"
     ]
    }
   ],
   "source": [
    "for i in range(10):\n",
    "    \n",
    "    layer_1 = data.dot(weights_0_1)\n",
    "    layer_2 = layer_1.dot(weights_1_2)\n",
    "    \n",
    "    diff = (layer_2 - target)\n",
    "    sqdiff = (diff * diff)\n",
    "    loss = sqdiff.sum(0) # потеря как среднеквадратическая ошибка\n",
    "    \n",
    "    layer_1_grad = diff.dot(weights_1_2.transpose())\n",
    "    weights_1_2_update = layer_1.transpose().dot(diff)\n",
    "    weights_0_1_update = data.transpose().dot(layer_1_grad)\n",
    "    \n",
    "    weights_1_2 -= weights_1_2_update * 0.1\n",
    "    weights_0_1 -= weights_0_1_update * 0.1\n",
    "    print(loss[0])"
   ],
   "metadata": {
    "collapsed": false,
    "ExecuteTime": {
     "end_time": "2023-08-10T22:33:51.994322Z",
     "start_time": "2023-08-10T22:33:51.961808Z"
    }
   },
   "id": "14924a22d6275bc1"
  },
  {
   "cell_type": "markdown",
   "source": [
    "То же самое только с использованием фреймворка"
   ],
   "metadata": {
    "collapsed": false
   },
   "id": "82dc7a678ac6743c"
  },
  {
   "cell_type": "code",
   "execution_count": 32,
   "outputs": [],
   "source": [
    "data = Tensor(np.array([[0,0],\n",
    "                        [0,1],\n",
    "                        [1,0],\n",
    "                        [1,1]]), autograd=True)\n",
    "\n",
    "target = Tensor(np.array([[0],\n",
    "                          [1],\n",
    "                          [0],\n",
    "                          [1]]), autograd=True)\n",
    "\n",
    "w = list()\n",
    "w.append(Tensor(np.random.rand(2,3), autograd=True))\n",
    "w.append(Tensor(np.random.rand(3,1), autograd=True))"
   ],
   "metadata": {
    "collapsed": false,
    "ExecuteTime": {
     "end_time": "2023-08-10T22:45:30.778857Z",
     "start_time": "2023-08-10T22:45:30.770015Z"
    }
   },
   "id": "a3ed20493f9efae1"
  },
  {
   "cell_type": "code",
   "execution_count": 33,
   "outputs": [
    {
     "name": "stdout",
     "output_type": "stream",
     "text": [
      "[0.71958028]\n",
      "[0.29231963]\n",
      "[0.16302439]\n",
      "[0.10055145]\n",
      "[0.06026959]\n",
      "[0.03496011]\n",
      "[0.01967726]\n",
      "[0.01078996]\n",
      "[0.00579031]\n",
      "[0.00305435]\n"
     ]
    }
   ],
   "source": [
    "for i in range(10):\n",
    "    pred = data.mm(w[0]).mm(w[1]) # прогноз (прямое распространение)\n",
    "    \n",
    "    loss = ((pred - target) * (pred - target)).sum(0) # сравнение\n",
    "    \n",
    "    loss.backward(Tensor(np.ones_like(loss.data))) # обучение (обратное распространение)\n",
    "\n",
    "    for w_ in w:\n",
    "        w_.data -= w_.grad.data * 0.1\n",
    "        w_.grad.data *= 0\n",
    "        \n",
    "    print(loss)\n",
    "    \n",
    "    "
   ],
   "metadata": {
    "collapsed": false,
    "ExecuteTime": {
     "end_time": "2023-08-10T22:45:31.076157Z",
     "start_time": "2023-08-10T22:45:31.063914Z"
    }
   },
   "id": "f0abe2471b713413"
  },
  {
   "cell_type": "code",
   "execution_count": 9,
   "outputs": [],
   "source": [
    "np.random.seed(0)\n",
    "\n",
    "data = Tensor(np.array([[0,0],\n",
    "                        [0,1],\n",
    "                        [1,0],\n",
    "                        [1,1]]), autograd=True)\n",
    "\n",
    "target = Tensor(np.array([[0],\n",
    "                          [1],\n",
    "                          [0],\n",
    "                          [1]]), autograd=True)\n",
    "\n",
    "w = list()\n",
    "w.append(Tensor(np.random.rand(2, 3), autograd=True))\n",
    "w.append(Tensor(np.random.rand(3, 1), autograd=True))\n",
    "\n",
    "optim = SGD(parameters=w, alpha=0.1)"
   ],
   "metadata": {
    "collapsed": false,
    "ExecuteTime": {
     "end_time": "2023-08-11T07:26:21.299841Z",
     "start_time": "2023-08-11T07:26:21.281940Z"
    }
   },
   "id": "9f37768d1ce0ed05"
  },
  {
   "cell_type": "code",
   "execution_count": 10,
   "outputs": [],
   "source": [
    "for i in range(10):\n",
    "    pred = data.mm(w[0]).mm(w[1])\n",
    "    \n",
    "    loss = ((pred - target) * (pred - target)).sum(0)\n",
    "    \n",
    "    loss.backward(Tensor(np.ones_like(loss.data)))\n",
    "    \n",
    "    optim.step()"
   ],
   "metadata": {
    "collapsed": false,
    "ExecuteTime": {
     "end_time": "2023-08-11T07:28:54.202348Z",
     "start_time": "2023-08-11T07:28:54.179918Z"
    }
   },
   "id": "8b7d03c17a26ca10"
  },
  {
   "cell_type": "code",
   "execution_count": 11,
   "outputs": [
    {
     "name": "stdout",
     "output_type": "stream",
     "text": [
      "[0.06849361]\n"
     ]
    }
   ],
   "source": [
    "print(loss)"
   ],
   "metadata": {
    "collapsed": false,
    "ExecuteTime": {
     "end_time": "2023-08-11T07:29:05.012531Z",
     "start_time": "2023-08-11T07:29:04.986525Z"
    }
   },
   "id": "47b99de6a8ed10d3"
  },
  {
   "cell_type": "code",
   "execution_count": 17,
   "outputs": [
    {
     "name": "stdout",
     "output_type": "stream",
     "text": [
      "[2.6865042]\n",
      "[11.271212]\n",
      "[38.09060898]\n",
      "[9.34796148]\n",
      "[2.28355956]\n",
      "[0.93643926]\n",
      "[0.61224936]\n",
      "[0.43932735]\n",
      "[0.32808561]\n",
      "[0.24902135]\n"
     ]
    }
   ],
   "source": [
    "data = Tensor(np.array([[0,0],\n",
    "                        [0,1],\n",
    "                        [1,0],\n",
    "                        [1,1]]), autograd=True)\n",
    "\n",
    "target = Tensor(np.array([[0],\n",
    "                          [1],\n",
    "                          [0],\n",
    "                          [1]]), autograd=True)\n",
    "\n",
    "model = Sequential([Linear(2,3), Linear(3,1)])\n",
    "\n",
    "optim = SGD(parameters=model.get_parameters(), alpha=0.05)\n",
    "\n",
    "for i in range(10):\n",
    "    pred = model.forward(data)\n",
    "    \n",
    "    loss = ((pred - target) * (pred-target)).sum(0)\n",
    "    \n",
    "    loss.backward(Tensor(np.ones_like(loss.data)))\n",
    "    \n",
    "    optim.step()\n",
    "    \n",
    "    print(loss)"
   ],
   "metadata": {
    "collapsed": false,
    "ExecuteTime": {
     "end_time": "2023-08-11T07:58:55.575596Z",
     "start_time": "2023-08-11T07:58:55.547477Z"
    }
   },
   "id": "258bcba99520d651"
  },
  {
   "cell_type": "code",
   "execution_count": 27,
   "outputs": [
    {
     "name": "stdout",
     "output_type": "stream",
     "text": [
      "[37.32745542]\n",
      "[45.43205051]\n",
      "[15.89010067]\n",
      "[59.70198105]\n",
      "[14.62067437]\n",
      "[12.71230094]\n",
      "[3.10240059]\n",
      "[0.91838762]\n",
      "[0.33883533]\n",
      "[0.21708456]\n"
     ]
    }
   ],
   "source": [
    "data = Tensor(np.array([[0,0],\n",
    "                        [0,1],\n",
    "                        [1,0],\n",
    "                        [1,1]]), autograd=True)\n",
    "\n",
    "target = Tensor(np.array([[0],\n",
    "                          [1],\n",
    "                          [0],\n",
    "                          [1]]), autograd=True)\n",
    "\n",
    "model = Sequential([Linear(2,3), Linear(3,1)])\n",
    "criterion = MSELoss()\n",
    "\n",
    "optim = SGD(parameters=model.get_parameters(), alpha=0.05)\n",
    "\n",
    "for i in range(10):\n",
    "    pred = model.forward(data)\n",
    "\n",
    "    loss = criterion.forward(pred, target)\n",
    "\n",
    "    loss.backward()\n",
    "\n",
    "    optim.step()\n",
    "\n",
    "    print(loss)"
   ],
   "metadata": {
    "collapsed": false,
    "ExecuteTime": {
     "end_time": "2023-08-11T08:08:04.852898Z",
     "start_time": "2023-08-11T08:08:04.842498Z"
    }
   },
   "id": "b620602cd952177f"
  },
  {
   "cell_type": "markdown",
   "source": [
    "<h2>Нелинейные слои<h2>"
   ],
   "metadata": {
    "collapsed": false
   },
   "id": "c42029c7156addde"
  },
  {
   "cell_type": "code",
   "execution_count": 5,
   "outputs": [
    {
     "name": "stdout",
     "output_type": "stream",
     "text": [
      "[1.06372865]\n",
      "[0.75148144]\n",
      "[0.57384259]\n",
      "[0.39574294]\n",
      "[0.2482279]\n",
      "[0.15515294]\n",
      "[0.10423398]\n",
      "[0.07571169]\n",
      "[0.05837623]\n",
      "[0.04700013]\n"
     ]
    }
   ],
   "source": [
    "np.random.seed(0)\n",
    "\n",
    "data = Tensor(np.array([[0,0],\n",
    "                        [0,1],\n",
    "                        [1,0],\n",
    "                        [1,1]]), autograd=True)\n",
    "\n",
    "target = Tensor(np.array([[0],\n",
    "                          [1],\n",
    "                          [0],\n",
    "                          [1]]), autograd=True)\n",
    "\n",
    "model = Sequential([Linear(2, 3), Tanh(), Linear(3, 1), Sigmoid()])\n",
    "criterion = MSELoss()\n",
    "\n",
    "optim = SGD(parameters=model.get_parameters(), alpha=1)\n",
    "\n",
    "for i in range(10):\n",
    "    \n",
    "    pred = model.forward(data)\n",
    "    \n",
    "    loss = criterion.forward(pred, target)\n",
    "    \n",
    "    loss.backward()\n",
    "    \n",
    "    optim.step()\n",
    "    \n",
    "    print(loss)\n"
   ],
   "metadata": {
    "collapsed": false,
    "ExecuteTime": {
     "end_time": "2023-08-12T11:09:14.940610Z",
     "start_time": "2023-08-12T11:09:14.927756Z"
    }
   },
   "id": "d1027ca4eb7c47a8"
  },
  {
   "cell_type": "code",
   "execution_count": 7,
   "outputs": [
    {
     "data": {
      "text/plain": "array([[0., 0., 0., 0., 0.],\n       [1., 1., 1., 1., 1.],\n       [2., 2., 2., 2., 2.],\n       [2., 2., 2., 2., 2.],\n       [1., 1., 1., 1., 1.]])"
     },
     "execution_count": 7,
     "metadata": {},
     "output_type": "execute_result"
    }
   ],
   "source": [
    "x = Tensor(np.eye(5), autograd=True)\n",
    "x.index_select(Tensor([[1, 2, 3],\n",
    "                       [2, 3, 4]])).backward()\n",
    "\n",
    "x.grad"
   ],
   "metadata": {
    "collapsed": false,
    "ExecuteTime": {
     "end_time": "2023-08-13T12:42:33.690526Z",
     "start_time": "2023-08-13T12:42:33.668908Z"
    }
   },
   "id": "cbb54685ad4e1f34"
  },
  {
   "cell_type": "code",
   "execution_count": 11,
   "outputs": [
    {
     "name": "stdout",
     "output_type": "stream",
     "text": [
      "[0.96547395]\n",
      "[0.60816658]\n",
      "[0.3887587]\n",
      "[0.2551624]\n",
      "[0.17722078]\n",
      "[0.13074724]\n",
      "[0.1014338]\n",
      "[0.0818228]\n",
      "[0.06801557]\n",
      "[0.05787702]\n"
     ]
    }
   ],
   "source": [
    "data = Tensor(np.array([1, 2, 1, 2]), autograd=True)\n",
    "target =Tensor(np.array([ [0], [1], [0], [1] ]), autograd=True)\n",
    "\n",
    "embed = Embedding(5, 3)\n",
    "model = Sequential([embed, Tanh(), Linear(3,1), Sigmoid()])\n",
    "\n",
    "optim = SGD(parameters=model.get_parameters(), alpha=0.5)\n",
    "\n",
    "for i in range(10):\n",
    "    \n",
    "    pred = model.forward(data)\n",
    "    loss = criterion.forward(pred, target)\n",
    "    loss.backward()\n",
    "    optim.step()\n",
    "    \n",
    "    print(loss)"
   ],
   "metadata": {
    "collapsed": false,
    "ExecuteTime": {
     "end_time": "2023-08-13T13:01:33.468689Z",
     "start_time": "2023-08-13T13:01:33.452206Z"
    }
   },
   "id": "32896c9a710676bd"
  },
  {
   "cell_type": "code",
   "execution_count": 14,
   "outputs": [
    {
     "name": "stdout",
     "output_type": "stream",
     "text": [
      "1.3885032434928422\n",
      "0.9558181509266037\n",
      "0.6823083585795604\n",
      "0.509525996749312\n",
      "0.39574491472895856\n",
      "0.31752527285348275\n",
      "0.2617222861964217\n",
      "0.22061283923954228\n",
      "0.18946427334830068\n",
      "0.16527389263866668\n"
     ]
    }
   ],
   "source": [
    "np.random.seed(0)\n",
    "\n",
    "data = Tensor(np.array([1, 2, 1, 2]), autograd=True)\n",
    "\n",
    "target = Tensor(np.array([0, 1, 0, 1]), autograd=True)\n",
    "\n",
    "model = Sequential([Embedding(3, 3), Tanh(), Linear(3, 4)])\n",
    "criterion = CrossEntropyLoss()\n",
    "\n",
    "optim = SGD(parameters=model.get_parameters(), alpha=0.1)\n",
    "\n",
    "for i in range(10):\n",
    "    \n",
    "    pred = model.forward(data)\n",
    "    \n",
    "    loss = criterion.forward(pred, target)\n",
    "    \n",
    "    loss.backward()\n",
    "    \n",
    "    optim.step()\n",
    "    \n",
    "    print(loss)"
   ],
   "metadata": {
    "collapsed": false,
    "ExecuteTime": {
     "end_time": "2023-08-13T13:26:42.917947Z",
     "start_time": "2023-08-13T13:26:42.883475Z"
    }
   },
   "id": "e9541c0db3022fea"
  },
  {
   "cell_type": "markdown",
   "source": [
    "<h2>Тест рекурентной нейронной сети в собственном фреймворке<h2>"
   ],
   "metadata": {
    "collapsed": false
   },
   "id": "94a166e51e6dbd16"
  },
  {
   "cell_type": "code",
   "execution_count": 3,
   "outputs": [],
   "source": [
    "import sys, math, random\n",
    "from collections import Counter\n"
   ],
   "metadata": {
    "collapsed": false,
    "ExecuteTime": {
     "end_time": "2023-08-15T21:13:35.191914Z",
     "start_time": "2023-08-15T21:13:35.164219Z"
    }
   },
   "id": "24f920b8d26f8f1e"
  },
  {
   "cell_type": "code",
   "execution_count": 5,
   "outputs": [],
   "source": [
    "f = open('tasksv11/en/qa1_single-supporting-fact_train.txt', 'r')\n",
    "raw = f.readlines()\n",
    "f.close()\n"
   ],
   "metadata": {
    "collapsed": false,
    "ExecuteTime": {
     "end_time": "2023-08-15T21:15:46.777491Z",
     "start_time": "2023-08-15T21:15:46.767711Z"
    }
   },
   "id": "5aa9903bb4b871f"
  },
  {
   "cell_type": "code",
   "execution_count": 16,
   "outputs": [],
   "source": [
    "tokens = list()\n",
    "for line in raw[0:1000]:\n",
    "    tokens.append(line.lower().replace(\"\\n\", \"\").split(\" \")[1:])"
   ],
   "metadata": {
    "collapsed": false,
    "ExecuteTime": {
     "end_time": "2023-08-15T21:22:51.366529Z",
     "start_time": "2023-08-15T21:22:51.351680Z"
    }
   },
   "id": "d052b666c8fbf310"
  },
  {
   "cell_type": "code",
   "execution_count": 17,
   "outputs": [],
   "source": [
    "new_tokens = list()\n",
    "for line in tokens:\n",
    "    new_tokens.append(['-'] * (6 - len(line)) + line)\n",
    "tokens = new_tokens"
   ],
   "metadata": {
    "collapsed": false,
    "ExecuteTime": {
     "end_time": "2023-08-15T21:22:51.674912Z",
     "start_time": "2023-08-15T21:22:51.666878Z"
    }
   },
   "id": "edb8b36dffb876c9"
  },
  {
   "cell_type": "code",
   "execution_count": 18,
   "outputs": [],
   "source": [
    "vocab = set()\n",
    "for sent in tokens:\n",
    "    for word in sent:\n",
    "        vocab.add(word)\n",
    "vocab = list(vocab)"
   ],
   "metadata": {
    "collapsed": false,
    "ExecuteTime": {
     "end_time": "2023-08-15T21:23:39.664308Z",
     "start_time": "2023-08-15T21:23:39.658067Z"
    }
   },
   "id": "37104b9995dbbad3"
  },
  {
   "cell_type": "code",
   "execution_count": 22,
   "outputs": [],
   "source": [
    "word2index = {}\n",
    "for i, word in enumerate(vocab):\n",
    "    word2index[word] = i\n",
    "\n",
    "def words2indices(sentence):\n",
    "    idx = list()\n",
    "    for word in sentence:\n",
    "        idx.append(word2index[word])\n",
    "    return idx\n",
    "\n",
    "indices = list()\n",
    "for line in tokens:\n",
    "    idx = list()\n",
    "    for w in line:\n",
    "        idx.append(word2index[w])\n",
    "    indices.append(idx)\n"
   ],
   "metadata": {
    "collapsed": false,
    "ExecuteTime": {
     "end_time": "2023-08-15T21:28:18.665110Z",
     "start_time": "2023-08-15T21:28:18.651956Z"
    }
   },
   "id": "62895e3fb96a1a87"
  },
  {
   "cell_type": "code",
   "execution_count": 31,
   "outputs": [],
   "source": [
    "data = np.array(indices)\n",
    "embed = Embedding(vocab_size=len(vocab), dim=16)\n",
    "model = RNNCell(n_input=16, n_hidden=16, n_output=len(vocab))\n",
    "\n",
    "criterion = CrossEntropyLoss()\n",
    "params = model.get_parameters() + embed.get_parameters()\n",
    "optim = SGD(parameters=params, alpha=0.05)"
   ],
   "metadata": {
    "collapsed": false,
    "ExecuteTime": {
     "end_time": "2023-08-15T21:36:27.187808Z",
     "start_time": "2023-08-15T21:36:27.180513Z"
    }
   },
   "id": "31ca50d218a61c46"
  },
  {
   "cell_type": "code",
   "execution_count": 33,
   "outputs": [],
   "source": [],
   "metadata": {
    "collapsed": false,
    "ExecuteTime": {
     "end_time": "2023-08-15T21:48:12.033772Z",
     "start_time": "2023-08-15T21:48:12.014107Z"
    }
   },
   "id": "5eb2b8d3ca5d0bf5"
  },
  {
   "cell_type": "code",
   "execution_count": 34,
   "outputs": [
    {
     "name": "stdout",
     "output_type": "stream",
     "text": [
      "Loss:  0.4746838345350352  % Correct:  0.0\n",
      "Loss:  0.1728947457457735  % Correct:  0.28\n",
      "Loss:  0.14833058061980758  % Correct:  0.36\n",
      "Loss:  0.13826450318517364  % Correct:  0.36\n",
      "Loss:  0.1350346229846787  % Correct:  0.37\n"
     ]
    }
   ],
   "source": [
    "for iter in range(1000):\n",
    "    batch_size = 100\n",
    "    total_loss = 0\n",
    "    \n",
    "    hidden = model.init_hidden(batch_size = batch_size)\n",
    "    \n",
    "    for t in range(5):\n",
    "        input = Tensor(data[0:batch_size, t], autograd=True)\n",
    "        rnn_input = embed.forward(input=input)\n",
    "        output, hidden = model.forward(input=rnn_input, hidden=hidden)\n",
    "    target = Tensor(data[0:batch_size, t+1], autograd=True)\n",
    "    loss = criterion.forward(output, target)\n",
    "    loss.backward()\n",
    "    optim.step()\n",
    "    \n",
    "    total_loss += loss.data\n",
    "    \n",
    "    if iter % 200 == 0:\n",
    "        p_correct = (target.data == np.argmax(output.data,axis=1)).mean()\n",
    "        print_loss = total_loss / (len(data)/batch_size)\n",
    "        print(\"Loss: \", print_loss,\" % Correct: \",p_correct)"
   ],
   "metadata": {
    "collapsed": false,
    "ExecuteTime": {
     "end_time": "2023-08-15T21:57:13.678628Z",
     "start_time": "2023-08-15T21:57:10.823552Z"
    }
   },
   "id": "78d6e488daa2ac1a"
  },
  {
   "cell_type": "code",
   "execution_count": 41,
   "outputs": [
    {
     "name": "stdout",
     "output_type": "stream",
     "text": [
      "Context:  - mary moved to the \n",
      "Pred:  office.\n"
     ]
    }
   ],
   "source": [
    "batch_size = 1\n",
    "\n",
    "hidden = model.init_hidden(batch_size=batch_size)\n",
    "\n",
    "for t in range(5):\n",
    "    input = Tensor(data[0:batch_size, t], autograd=True)\n",
    "    rnn_input = embed.forward(input=input)\n",
    "    output, hidden = model.forward(input=rnn_input, hidden=hidden)\n",
    "target = Tensor(data[0:batch_size, t+1], autograd=True)\n",
    "loss = criterion.forward(output, target)\n",
    "\n",
    "ctx = \"\"\n",
    "for idx in data[0:batch_size][0][0: -1]:\n",
    "    ctx += vocab[idx] + \" \"\n",
    "\n",
    "print(\"Context: \", ctx)\n",
    "print(\"Pred: \", vocab[output.data.argmax()])"
   ],
   "metadata": {
    "collapsed": false,
    "ExecuteTime": {
     "end_time": "2023-08-15T22:06:50.549653Z",
     "start_time": "2023-08-15T22:06:50.536735Z"
    }
   },
   "id": "b6b94113a186e486"
  },
  {
   "cell_type": "code",
   "execution_count": null,
   "outputs": [],
   "source": [],
   "metadata": {
    "collapsed": false
   },
   "id": "174e3189f563134f"
  }
 ],
 "metadata": {
  "kernelspec": {
   "display_name": "Python 3",
   "language": "python",
   "name": "python3"
  },
  "language_info": {
   "codemirror_mode": {
    "name": "ipython",
    "version": 2
   },
   "file_extension": ".py",
   "mimetype": "text/x-python",
   "name": "python",
   "nbconvert_exporter": "python",
   "pygments_lexer": "ipython2",
   "version": "2.7.6"
  }
 },
 "nbformat": 4,
 "nbformat_minor": 5
}
